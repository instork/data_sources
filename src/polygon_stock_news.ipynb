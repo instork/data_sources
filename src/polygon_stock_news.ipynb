{
 "cells": [
  {
   "cell_type": "code",
   "execution_count": 1,
   "id": "e57ebeaf",
   "metadata": {},
   "outputs": [
    {
     "data": {
      "text/plain": [
       "True"
      ]
     },
     "execution_count": 1,
     "metadata": {},
     "output_type": "execute_result"
    }
   ],
   "source": [
    "\n",
    "import os\n",
    "import jwt\n",
    "from dotenv import load_dotenv\n",
    "\n",
    "import requests\n",
    "\n",
    "load_dotenv()"
   ]
  },
  {
   "cell_type": "markdown",
   "id": "8fc4ec15",
   "metadata": {},
   "source": [
    "# Polygon io\n",
    "\n",
    "\n",
    "\n",
    "- https://polygon.io/pricing\n",
    "- https://github.com/polygon-io/client-python\n",
    "\n",
    "\n",
    "- End of Day Data\n",
    "- 5 API Calls / Minute\n",
    "- 2 Years Historical Data\n",
    "- 100% Market Coverage\n",
    "- Reference Data\n",
    "- Fundamental Data\n",
    "- Corporate Actions\n",
    "- Aggregate Bars\n",
    "\n",
    "\n",
    "- 뉴스데이터도 가능"
   ]
  },
  {
   "cell_type": "markdown",
   "id": "32386f02",
   "metadata": {},
   "source": [
    "## resultsarray\n",
    "\n",
    "- cnumber\n",
    "    - The close price for the symbol in the given time period.\n",
    "\n",
    "- hnumber\n",
    "    - The highest price for the symbol in the given time period.\n",
    "\n",
    "- lnumber\n",
    "    - The lowest price for the symbol in the given time period.\n",
    "\n",
    "- nnumber\n",
    "    - The number of transactions in the aggregate window.\n",
    "\n",
    "- onumber\n",
    "    - The open price for the symbol in the given time period.\n",
    "\n",
    "- otcboolean\n",
    "    - Whether or not this aggregate is for an OTC ticker. This field will be left off if false.\n",
    "\n",
    "- tinteger\n",
    "    - The Unix Msec timestamp for the start of the aggregate window.\n",
    "\n",
    "- vnumber\n",
    "    - The trading volume of the symbol in the given time period.\n",
    "\n",
    "- vwnumber\n",
    "    - The volume weighted average price."
   ]
  },
  {
   "cell_type": "code",
   "execution_count": 2,
   "id": "a2228dd6",
   "metadata": {},
   "outputs": [
    {
     "data": {
      "text/plain": [
       "[{'v': 4476,\n",
       "  'vw': 195.0097,\n",
       "  'o': 195.5,\n",
       "  'c': 194.79,\n",
       "  'h': 195.5,\n",
       "  'l': 194.78,\n",
       "  't': 1626940800000,\n",
       "  'n': 88},\n",
       " {'v': 647,\n",
       "  'vw': 195.0903,\n",
       "  'o': 195.09,\n",
       "  'c': 195.09,\n",
       "  'h': 195.09,\n",
       "  'l': 195.09,\n",
       "  't': 1626940860000,\n",
       "  'n': 10},\n",
       " {'v': 531,\n",
       "  'vw': 195.6926,\n",
       "  'o': 195.68,\n",
       "  'c': 195.68,\n",
       "  'h': 195.68,\n",
       "  'l': 195.68,\n",
       "  't': 1626940920000,\n",
       "  'n': 31},\n",
       " {'v': 1783,\n",
       "  'vw': 195.7137,\n",
       "  'o': 195.68,\n",
       "  'c': 195.68,\n",
       "  'h': 195.71,\n",
       "  'l': 195.68,\n",
       "  't': 1626940980000,\n",
       "  'n': 48},\n",
       " {'v': 548,\n",
       "  'vw': 195.5921,\n",
       "  'o': 195.57,\n",
       "  'c': 195.57,\n",
       "  'h': 195.57,\n",
       "  'l': 195.57,\n",
       "  't': 1626941040000,\n",
       "  'n': 23}]"
      ]
     },
     "execution_count": 2,
     "metadata": {},
     "output_type": "execute_result"
    }
   ],
   "source": [
    "\n",
    "\n",
    "api_key  = os.getenv('POLYGON_API')\n",
    "\n",
    "stocksTicker = \"NVDA\"\n",
    "multiplier = 1\n",
    "timespan = \"minute\"\n",
    "start_date = \"2021-07-22\"\n",
    "end_date = \"2021-07-23\"\n",
    "adjusted = \"true\"\n",
    "\n",
    "\n",
    "headers = {\"Authorization\": f\"Bearer {api_key}\"}\n",
    "\n",
    "base_url = \"https://api.polygon.io\"\n",
    "api_url = f\"/v2/aggs/ticker/{stocksTicker}/range/{multiplier}/{timespan}/{start_date}/{end_date}?adjusted={adjusted}&sort=asc\"\n",
    "\n",
    "response = requests.get(base_url+api_url, headers=headers)\n",
    "\n",
    "response.json()['results'][:5]\n",
    "\n"
   ]
  },
  {
   "cell_type": "code",
   "execution_count": 4,
   "id": "ef0468f9",
   "metadata": {},
   "outputs": [
    {
     "name": "stdout",
     "output_type": "stream",
     "text": [
      "TickerDetails(active=True, address=CompanyAddress(address1='100 WINCHESTER CIRCLE', address2='.', city='LOS GATOS', state='CA', country=None, postal_code='95032'), branding=Branding(icon_url='https://api.polygon.io/v1/reference/company-branding/d3d3Lm5ldGZsaXguY29t/images/2022-01-10_icon.jpeg', logo_url='https://api.polygon.io/v1/reference/company-branding/d3d3Lm5ldGZsaXguY29t/images/2022-01-10_logo.svg', accent_color=None, light_color=None, dark_color=None), cik='0001065280', composite_figi='BBG000CL9VN6', currency_name='usd', delisted_utc=None, description=\"Netflix's primary business is a streaming video on demand service now available in almost every country worldwide except China. Netflix delivers original and third-party digital video content to PCs, internet-connected TVs, and consumer electronic devices, including tablets, video game consoles, Apple TV, Roku, and Chromecast. In 2011, Netflix introduced DVD-only plans and separated the combined streaming and DVD plans, making it necessary for subscribers who want both to have separate plans.\", ticker_root='NFLX', homepage_url='https://www.netflix.com', list_date='2002-05-23', locale='us', market='stocks', market_cap=83068103103.75, name='NetFlix Inc', phone_number='408-540-3700', primary_exchange='XNAS', share_class_figi='BBG001SF6L46', share_class_shares_outstanding=444270000, sic_code='7841', sic_description='SERVICES-VIDEO TAPE RENTAL', ticker='NFLX', total_employees=11300, type='CS', weighted_shares_outstanding=444273850)\n"
     ]
    }
   ],
   "source": [
    "from polygon import RESTClient\n",
    "\n",
    "client = RESTClient(api_key)\n",
    "\n",
    "financials = client.get_ticker_details(\"NFLX\")\n",
    "print(financials)\n",
    "\n"
   ]
  },
  {
   "cell_type": "code",
   "execution_count": 5,
   "id": "40fe5a7c",
   "metadata": {},
   "outputs": [],
   "source": [
    "res = client.list_ticker_news(\"NFLX\", limit=5)"
   ]
  },
  {
   "cell_type": "code",
   "execution_count": 6,
   "id": "6795f742",
   "metadata": {},
   "outputs": [
    {
     "data": {
      "text/plain": [
       "TickerNews(amp_url=None, article_url='https://www.fool.com/investing/2022/07/10/2-charts-say-you-should-invest-in-stocks-right-now/', author='newsfeedback@fool.com (Prosper Junior Bakiny)', description=\"History can help assuage investors' fears.\", id='qmBeQH-WUTEd5vCypO_aNOR0jBs5bYz-WSKHfPJs6-0', image_url='https://g.foolcdn.com/editorial/images/688786/gettyimages-1335939274.jpg', keywords=['investing'], published_utc='2022-07-10T14:33:00Z', publisher=Publisher(favicon_url='https://s3.polygon.io/public/assets/news/favicons/themotleyfool.ico', homepage_url='https://www.fool.com/', logo_url='https://s3.polygon.io/public/assets/news/logos/themotleyfool.svg', name='The Motley Fool'), tickers=['NFLX'], title='Should You Invest in Stocks Right Now? These 2 Charts Say Yes')"
      ]
     },
     "execution_count": 6,
     "metadata": {},
     "output_type": "execute_result"
    }
   ],
   "source": [
    "next(res)"
   ]
  },
  {
   "cell_type": "code",
   "execution_count": 8,
   "id": "3ea27390",
   "metadata": {
    "scrolled": false
   },
   "outputs": [],
   "source": [
    "from polygon import RESTClient\n",
    "\n",
    "client = RESTClient(api_key)\n",
    "\n",
    "aggs = client.get_aggs(\"AAPL\", 1, \"minute\", \"2022-07-07\", \"2022-07-08\")\n"
   ]
  },
  {
   "cell_type": "code",
   "execution_count": 10,
   "id": "67ebae0c",
   "metadata": {},
   "outputs": [
    {
     "name": "stdout",
     "output_type": "stream",
     "text": [
      "[Agg(open=143.15, high=143.44, low=143.15, close=143.44, volume=1408, vwap=143.2776, timestamp=1657180800000, transactions=47, otc=None), Agg(open=143.44, high=143.45, low=143.31, close=143.31, volume=2113, vwap=143.4039, timestamp=1657180860000, transactions=28, otc=None), Agg(open=143.45, high=143.45, low=143.45, close=143.45, volume=1289, vwap=143.4451, timestamp=1657180920000, transactions=18, otc=None), Agg(open=143.42, high=143.44, low=143.42, close=143.44, volume=507, vwap=143.4334, timestamp=1657180980000, transactions=14, otc=None), Agg(open=143.41, high=143.41, low=143.4, close=143.4, volume=481, vwap=143.4109, timestamp=1657181040000, transactions=17, otc=None), Agg(open=143.32, high=143.32, low=143.32, close=143.32, volume=682, vwap=143.3351, timestamp=1657181100000, transactions=25, otc=None), Agg(open=143.48, high=143.48, low=143.48, close=143.48, volume=769, vwap=143.412, timestamp=1657181160000, transactions=31, otc=None), Agg(open=143.45, high=143.66, low=143.45, close=143.66, volume=3647, vwap=143.6222, timestamp=1657181220000, transactions=46, otc=None), Agg(open=143.49, high=143.49, low=143.49, close=143.49, volume=678, vwap=143.4907, timestamp=1657181460000, transactions=20, otc=None), Agg(open=143.5, high=143.5, low=143.43, close=143.43, volume=1194, vwap=143.4528, timestamp=1657181520000, transactions=16, otc=None)]\n"
     ]
    }
   ],
   "source": [
    "print(aggs[:10])"
   ]
  }
 ],
 "metadata": {
  "kernelspec": {
   "display_name": "data_sources",
   "language": "python",
   "name": "data_sources"
  },
  "language_info": {
   "codemirror_mode": {
    "name": "ipython",
    "version": 3
   },
   "file_extension": ".py",
   "mimetype": "text/x-python",
   "name": "python",
   "nbconvert_exporter": "python",
   "pygments_lexer": "ipython3",
   "version": "3.8.13"
  }
 },
 "nbformat": 4,
 "nbformat_minor": 5
}
