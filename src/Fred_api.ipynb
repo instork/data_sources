{
 "cells": [
  {
   "cell_type": "code",
   "execution_count": 3,
   "id": "eacd3b43",
   "metadata": {},
   "outputs": [
    {
     "data": {
      "text/plain": [
       "True"
      ]
     },
     "execution_count": 3,
     "metadata": {},
     "output_type": "execute_result"
    }
   ],
   "source": [
    "import os\n",
    "from fredapi import Fred\n",
    "from dotenv import load_dotenv\n",
    "\n",
    "load_dotenv('../.env')"
   ]
  },
  {
   "cell_type": "code",
   "execution_count": 4,
   "id": "8e96dff0",
   "metadata": {},
   "outputs": [],
   "source": [
    "fred_api_key = os.getenv('FRED_API_KEY')"
   ]
  },
  {
   "cell_type": "code",
   "execution_count": 10,
   "id": "d3703f39",
   "metadata": {},
   "outputs": [],
   "source": [
    "fred = Fred(api_key=fred_api_key)\n"
   ]
  },
  {
   "cell_type": "markdown",
   "id": "1b7e0438",
   "metadata": {},
   "source": [
    "- https://fred.stlouisfed.org/tags/series?ob=pv"
   ]
  },
  {
   "cell_type": "markdown",
   "id": "4db566b6",
   "metadata": {},
   "source": [
    "## Daily Series"
   ]
  },
  {
   "cell_type": "code",
   "execution_count": 25,
   "id": "4a470257",
   "metadata": {},
   "outputs": [],
   "source": [
    "\n",
    "T10Y2Y = fred.get_series('T10Y2Y', observation_start='2020-09-09')\n",
    "\n",
    "DFF = fred.get_series('DFF', observation_start='2020-09-09')\n",
    "\n",
    "BAMLH0A0HYM2 = fred.get_series('BAMLH0A0HYM2', observation_start='2020-09-09')\n",
    "\n",
    "T10YIE = fred.get_series('T10YIE', observation_start='2020-09-09')\n",
    "\n",
    "T5YIE = fred.get_series('T5YIE', observation_start='2020-09-09')\n",
    "\n",
    "T5YIEM = fred.get_series('T5YIEM', observation_start='2020-09-09')\n",
    "\n",
    "T5YIFR = fred.get_series('T5YIFR', observation_start='2020-09-09')\n",
    "\n",
    "DFII10 = fred.get_series('DFII10', observation_start='2020-09-09')\n",
    "\n",
    "BAMLH0A0HYM2EY = fred.get_series('BAMLH0A0HYM2EY', observation_start='2020-09-09')\n",
    "\n",
    "DCOILWTICO = fred.get_series('DCOILWTICO', observation_start='2020-09-09')\n",
    "\n",
    "SP500 = fred.get_series('SP500', observation_start='2020-09-09')\n",
    "\n",
    "DAAA = fred.get_series('DAAA', observation_start='2020-09-09')\n",
    "\n",
    "BAMLC0A4CBBB = fred.get_series('BAMLC0A4CBBB', observation_start='2020-09-09')\n",
    "\n"
   ]
  },
  {
   "cell_type": "code",
   "execution_count": 28,
   "id": "2730195d",
   "metadata": {},
   "outputs": [
    {
     "data": {
      "text/plain": [
       "2020-09-09    1.77\n",
       "2020-09-10    1.77\n",
       "2020-09-11    1.77\n",
       "2020-09-14    1.76\n",
       "2020-09-15    1.75\n",
       "              ... \n",
       "2022-07-15    1.99\n",
       "2022-07-18    1.96\n",
       "2022-07-19    1.94\n",
       "2022-07-20    1.92\n",
       "2022-07-21    1.92\n",
       "Length: 493, dtype: float64"
      ]
     },
     "execution_count": 28,
     "metadata": {},
     "output_type": "execute_result"
    }
   ],
   "source": [
    "BAMLC0A4CBBB"
   ]
  },
  {
   "cell_type": "code",
   "execution_count": 27,
   "id": "6b6a88c0",
   "metadata": {},
   "outputs": [
    {
     "data": {
      "text/plain": [
       "pandas.core.series.Series"
      ]
     },
     "execution_count": 27,
     "metadata": {},
     "output_type": "execute_result"
    }
   ],
   "source": [
    "type(BAMLC0A4CBBB)"
   ]
  },
  {
   "cell_type": "markdown",
   "id": "4bb11f1c",
   "metadata": {},
   "source": [
    "## Weekly Series"
   ]
  },
  {
   "cell_type": "code",
   "execution_count": 23,
   "id": "d2e6e0a0",
   "metadata": {},
   "outputs": [
    {
     "data": {
      "text/plain": [
       "2020-09-10    2.86\n",
       "2020-09-17    2.87\n",
       "2020-09-24    2.90\n",
       "2020-10-01    2.88\n",
       "2020-10-08    2.87\n",
       "              ... \n",
       "2022-06-23    5.81\n",
       "2022-06-30    5.70\n",
       "2022-07-07    5.30\n",
       "2022-07-14    5.51\n",
       "2022-07-21    5.54\n",
       "Length: 98, dtype: float64"
      ]
     },
     "execution_count": 23,
     "metadata": {},
     "output_type": "execute_result"
    }
   ],
   "source": [
    "# FRIDAY\n",
    "MORTGAGE30US = fred.get_series('MORTGAGE30US', observation_start='2020-09-09')\n",
    "\n",
    "# Wednesday level\n",
    "WALCL = fred.get_series('MORTGAGE30US', observation_start='2020-09-09')\n",
    "\n",
    "MORTGAGE30US\n",
    "\n"
   ]
  }
 ],
 "metadata": {
  "kernelspec": {
   "display_name": "data_sources",
   "language": "python",
   "name": "data_sources"
  },
  "language_info": {
   "codemirror_mode": {
    "name": "ipython",
    "version": 3
   },
   "file_extension": ".py",
   "mimetype": "text/x-python",
   "name": "python",
   "nbconvert_exporter": "python",
   "pygments_lexer": "ipython3",
   "version": "3.8.13"
  }
 },
 "nbformat": 4,
 "nbformat_minor": 5
}
