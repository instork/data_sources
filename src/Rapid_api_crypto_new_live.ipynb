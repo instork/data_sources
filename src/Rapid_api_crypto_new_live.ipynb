{
 "cells": [
  {
   "cell_type": "markdown",
   "id": "0f16c823",
   "metadata": {},
   "source": [
    "### Crpyto News Live \n",
    "\n",
    "https://rapidapi.com/ddeshon/api/crypto-news-live3/\n",
    "\n",
    "크립토 관련 뉴스 라이브로 읽어오는 api 입니다 \n",
    "\n",
    "실시간으로 제공되며,  \n",
    "- 뉴스 title\n",
    "- 뉴스 url \n",
    "- 뉴스 source\n",
    "\n",
    "만 제공됩니다\n",
    "\n",
    "- All Live new 는 94개 제공 \n",
    "- get individual new 는 74개 제공"
   ]
  },
  {
   "cell_type": "code",
   "execution_count": 11,
   "id": "0cebae2f",
   "metadata": {},
   "outputs": [],
   "source": [
    "import os \n",
    "import requests \n",
    "from dotenv import load_dotenv"
   ]
  },
  {
   "cell_type": "code",
   "execution_count": 12,
   "id": "4f4c9c0d",
   "metadata": {},
   "outputs": [
    {
     "data": {
      "text/plain": [
       "True"
      ]
     },
     "execution_count": 12,
     "metadata": {},
     "output_type": "execute_result"
    }
   ],
   "source": [
    "# load dotenv\n",
    "load_dotenv()"
   ]
  },
  {
   "cell_type": "code",
   "execution_count": 13,
   "id": "da31a334",
   "metadata": {},
   "outputs": [],
   "source": [
    "# RAPID_API KEY 설정 \n",
    "api_key = os.getenv(\"RAPID_API_KEY\")"
   ]
  },
  {
   "cell_type": "markdown",
   "id": "df885a5d",
   "metadata": {},
   "source": [
    "### get All Cryptocurrency News \n",
    "\n",
    "This endpoint will return the latest news about all the various cryptocurrencies.\n",
    "\n",
    "최근의 모든 크립토 관련 뉴스 제공\n",
    "\n",
    "- title \n",
    "- url \n",
    "- source \n",
    "만 제공"
   ]
  },
  {
   "cell_type": "code",
   "execution_count": 41,
   "id": "4fd25553",
   "metadata": {},
   "outputs": [],
   "source": [
    "url = \"https://crypto-news-live3.p.rapidapi.com/news\"\n",
    "\n",
    "headers = {\n",
    "    \"X-RapidAPI-Key\": api_key,\n",
    "    \"X-RapidAPI-Host\": \"crypto-news-live3.p.rapidapi.com\"\n",
    "}\n",
    "\n",
    "response = requests.request(\"GET\", url, headers=headers)\n",
    "\n",
    "# print(response.text)"
   ]
  },
  {
   "cell_type": "markdown",
   "id": "676890c6",
   "metadata": {},
   "source": [
    "#### 샵 제거하고 사용하시면 됩니다 "
   ]
  },
  {
   "cell_type": "code",
   "execution_count": 42,
   "id": "3328eb70",
   "metadata": {},
   "outputs": [],
   "source": [
    "# response.json()"
   ]
  },
  {
   "cell_type": "code",
   "execution_count": 43,
   "id": "af5eb3d7",
   "metadata": {},
   "outputs": [
    {
     "data": {
      "text/plain": [
       "94"
      ]
     },
     "execution_count": 43,
     "metadata": {},
     "output_type": "execute_result"
    }
   ],
   "source": [
    "len(response.json())"
   ]
  },
  {
   "cell_type": "markdown",
   "id": "ab7798cb",
   "metadata": {},
   "source": [
    "### Get Individual Crypto News source \n",
    "- Description\n",
    "Gets news about cryptocurrencies from a specific news source. Currently www.cryptonews.com, www.cryptonews.net and www.coindesk.com are supported.\n",
    "\n",
    "주요 3개의 크립토 관련 뉴스 홈페이지에서 뉴스 제공 \n",
    "\n",
    "\n",
    "- title \n",
    "- url \n",
    "- source 만 제공\n",
    "\n",
    "- cryptonews.com : 74개 제공 \n",
    "- crpytonew.net: 20개 제공 \n",
    "- coindesk.com: 0개? 테스트에서 안뜹니다"
   ]
  },
  {
   "cell_type": "markdown",
   "id": "3807da79",
   "metadata": {},
   "source": []
  },
  {
   "cell_type": "code",
   "execution_count": 66,
   "id": "aa8622a1",
   "metadata": {},
   "outputs": [],
   "source": [
    "url = \"https://crypto-news-live3.p.rapidapi.com/news/cryptonews.com\"\n",
    "\n",
    "headers = {\n",
    "    \"X-RapidAPI-Key\": api_key,\n",
    "    \"X-RapidAPI-Host\": \"crypto-news-live3.p.rapidapi.com\"\n",
    "}\n",
    "\n",
    "response = requests.request(\"GET\", url, headers=headers)\n",
    "\n",
    "\n",
    "# print(response.text)"
   ]
  },
  {
   "cell_type": "markdown",
   "id": "24d40ef5",
   "metadata": {},
   "source": [
    "##### json으로 확인"
   ]
  },
  {
   "cell_type": "code",
   "execution_count": 68,
   "id": "1e2a32fa",
   "metadata": {},
   "outputs": [],
   "source": [
    "# response.json()[0]"
   ]
  },
  {
   "cell_type": "markdown",
   "id": "543622c7",
   "metadata": {},
   "source": [
    "#### 받아오는 뉴스 개수 확인"
   ]
  },
  {
   "cell_type": "code",
   "execution_count": 67,
   "id": "97c84e65",
   "metadata": {},
   "outputs": [
    {
     "data": {
      "text/plain": [
       "74"
      ]
     },
     "execution_count": 67,
     "metadata": {},
     "output_type": "execute_result"
    }
   ],
   "source": [
    "len(response.json())"
   ]
  },
  {
   "cell_type": "code",
   "execution_count": null,
   "id": "5ba6bb77",
   "metadata": {},
   "outputs": [],
   "source": []
  }
 ],
 "metadata": {
  "kernelspec": {
   "display_name": "instrock",
   "language": "python",
   "name": "instrock"
  },
  "language_info": {
   "codemirror_mode": {
    "name": "ipython",
    "version": 3
   },
   "file_extension": ".py",
   "mimetype": "text/x-python",
   "name": "python",
   "nbconvert_exporter": "python",
   "pygments_lexer": "ipython3",
   "version": "3.8.13"
  }
 },
 "nbformat": 4,
 "nbformat_minor": 5
}
