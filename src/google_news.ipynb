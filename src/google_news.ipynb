{
 "cells": [
  {
   "cell_type": "markdown",
   "id": "7f56fcf6",
   "metadata": {},
   "source": [
    "- https://pypi.org/project/GoogleNews/\n",
    "- https://github.com/Iceloof/GoogleNews/blob/master/GoogleNews/__init__.py"
   ]
  },
  {
   "cell_type": "code",
   "execution_count": 1,
   "id": "cfb13a88",
   "metadata": {},
   "outputs": [],
   "source": [
    "from GoogleNews import GoogleNews\n",
    "googlenews = GoogleNews()"
   ]
  },
  {
   "cell_type": "code",
   "execution_count": 2,
   "id": "72eb3a3e",
   "metadata": {},
   "outputs": [],
   "source": [
    "googlenews = GoogleNews(start='02/01/2020',end='02/28/2020')"
   ]
  },
  {
   "cell_type": "code",
   "execution_count": 4,
   "id": "37b22fbb",
   "metadata": {},
   "outputs": [],
   "source": [
    "googlenews.search('APPLE')"
   ]
  },
  {
   "cell_type": "code",
   "execution_count": 5,
   "id": "2205452c",
   "metadata": {},
   "outputs": [],
   "source": [
    "googlenews.get_page(1)"
   ]
  },
  {
   "cell_type": "code",
   "execution_count": 7,
   "id": "19b6a1d7",
   "metadata": {},
   "outputs": [],
   "source": [
    "result = googlenews.get_texts()\n"
   ]
  },
  {
   "cell_type": "code",
   "execution_count": 8,
   "id": "f7597ede",
   "metadata": {},
   "outputs": [
    {
     "data": {
      "text/plain": [
       "['Apple is closing all offices and stores in China through ...',\n",
       " 'Apple is closing all stores and offices in China through ...',\n",
       " 'Apple temporarily closes all 42 stores in China as coronavirus spreads',\n",
       " 'Apple considers letting iPhone users change their default apps',\n",
       " 'iOS 14 is a chance for Apple to lower its walls',\n",
       " 'Apple is pushing its services, but iOS is not adware yet',\n",
       " 'Apple and Johnson & Johnson team up on new study to see if Apple Watch can reduce risk of stroke',\n",
       " 'Apple now sells more watches than the entire Swiss watch ...',\n",
       " 'Apple is finally opening its first store in India next year',\n",
       " 'Apple News launches special coverage of the 2020 ...',\n",
       " 'Apple is closing all offices and stores in China through ...',\n",
       " 'Apple is closing all stores and offices in China through ...',\n",
       " 'Apple temporarily closes all 42 stores in China as coronavirus spreads',\n",
       " 'Apple considers letting iPhone users change their default apps',\n",
       " 'iOS 14 is a chance for Apple to lower its walls',\n",
       " 'Apple is pushing its services, but iOS is not adware yet',\n",
       " 'Apple and Johnson & Johnson team up on new study to see if Apple Watch can reduce risk of stroke',\n",
       " 'Apple now sells more watches than the entire Swiss watch ...',\n",
       " 'Apple is finally opening its first store in India next year',\n",
       " 'Apple News launches special coverage of the 2020 ...']"
      ]
     },
     "execution_count": 8,
     "metadata": {},
     "output_type": "execute_result"
    }
   ],
   "source": [
    "result"
   ]
  },
  {
   "cell_type": "code",
   "execution_count": 10,
   "id": "b24307ef",
   "metadata": {},
   "outputs": [
    {
     "data": {
      "text/plain": [
       "105000"
      ]
     },
     "execution_count": 10,
     "metadata": {},
     "output_type": "execute_result"
    }
   ],
   "source": [
    "googlenews.total_count()"
   ]
  },
  {
   "cell_type": "code",
   "execution_count": 9,
   "id": "8bb992d8",
   "metadata": {},
   "outputs": [
    {
     "data": {
      "text/plain": [
       "['https://www.theverge.com/2020/2/1/21117941/coronavirus-apple-china-close-stores-offices-outbreak',\n",
       " 'https://www.gsmarena.com/apple_closing_stores_offices_china_february_9-news-41329.php',\n",
       " 'https://www.cnn.com/2020/02/01/tech/apple-china-coronavirus-stores-closed/index.html',\n",
       " 'https://www.gsmarena.com/apple_may_finally_let_iphone_users_select_their_default_apps-news-41629.php',\n",
       " 'https://www.theverge.com/2020/2/21/21146804/apple-ios-14-features-default-apps-settings-restrictions-apis-rumors',\n",
       " 'https://appleinsider.com/articles/20/02/19/apple-is-pushing-its-services-but-ios-is-not-adware-yet',\n",
       " 'https://www.cnbc.com/2020/02/25/apple-and-johnson-johnson-launch-study-to-predict-stroke-risk-with-apple-watch.html',\n",
       " 'https://www.theverge.com/2020/2/5/21125565/apple-watch-sales-2019-swiss-watch-market-estimates-outsold',\n",
       " 'https://www.cnn.com/2020/02/27/tech/apple-india-store/index.html',\n",
       " 'https://www.apple.com/newsroom/2020/02/apple-news-launches-special-coverage-of-the-2020-presidential-election/',\n",
       " 'https://www.theverge.com/2020/2/1/21117941/coronavirus-apple-china-close-stores-offices-outbreak',\n",
       " 'https://www.gsmarena.com/apple_closing_stores_offices_china_february_9-news-41329.php',\n",
       " 'https://www.cnn.com/2020/02/01/tech/apple-china-coronavirus-stores-closed/index.html',\n",
       " 'https://www.gsmarena.com/apple_may_finally_let_iphone_users_select_their_default_apps-news-41629.php',\n",
       " 'https://www.theverge.com/2020/2/21/21146804/apple-ios-14-features-default-apps-settings-restrictions-apis-rumors',\n",
       " 'https://appleinsider.com/articles/20/02/19/apple-is-pushing-its-services-but-ios-is-not-adware-yet',\n",
       " 'https://www.cnbc.com/2020/02/25/apple-and-johnson-johnson-launch-study-to-predict-stroke-risk-with-apple-watch.html',\n",
       " 'https://www.theverge.com/2020/2/5/21125565/apple-watch-sales-2019-swiss-watch-market-estimates-outsold',\n",
       " 'https://www.cnn.com/2020/02/27/tech/apple-india-store/index.html',\n",
       " 'https://www.apple.com/newsroom/2020/02/apple-news-launches-special-coverage-of-the-2020-presidential-election/']"
      ]
     },
     "execution_count": 9,
     "metadata": {},
     "output_type": "execute_result"
    }
   ],
   "source": [
    "googlenews.get_links()\n"
   ]
  },
  {
   "cell_type": "markdown",
   "id": "2cedef21",
   "metadata": {},
   "source": [
    "## UTC 시간인거 같음!\n"
   ]
  },
  {
   "cell_type": "code",
   "execution_count": 67,
   "id": "d6a678b0",
   "metadata": {},
   "outputs": [],
   "source": [
    "googlenews.clear()\n",
    "\n",
    "googlenews = GoogleNews(start='02/01/2020',end='02/01/2020')\n",
    "googlenews.search('BTC')\n",
    "# googlenews.set_lang('ko')\n",
    "# googlenews.get_page()\n",
    "\n",
    "result = googlenews.get_texts()\n"
   ]
  },
  {
   "cell_type": "code",
   "execution_count": 68,
   "id": "5b25c4aa",
   "metadata": {},
   "outputs": [
    {
     "data": {
      "text/plain": [
       "['$12 to $12K: The $100,000 Bitcoin Halving Is Just 100 Days Away',\n",
       " 'Bitcoin $100K Bullrun Is Here, Say Crypto YouTubers as Price Eyes $10K',\n",
       " 'Crypto Legend Peter Brandt Analyzes BTC, Litecoin and XRP, Says Early Signs Suggest Bitcoin Will Rally R...',\n",
       " 'ETH Co-Founder Vitalik Buterin: “Bitcoin Cash Is Not Bitcoin”',\n",
       " 'Ripple Unlocks Half Billion Tokens From Escrow as XRP Price Up 26% YTD',\n",
       " 'Upbit Exchange Execs Cleared of Fraud Charges in South ...',\n",
       " \"Stacking Fasts: Inside the Crypto Community's New Diet Craze\",\n",
       " \"Budget Allocation for Northeast's Territorial Councils Increased\",\n",
       " 'Bitcoin: These 5 key factors hint to an upcoming bullrun',\n",
       " 'Ethereum Insiders Are Hoarding ETH, Miners Set to Shatter Major Milestone: Report']"
      ]
     },
     "execution_count": 68,
     "metadata": {},
     "output_type": "execute_result"
    }
   ],
   "source": [
    "result"
   ]
  },
  {
   "cell_type": "code",
   "execution_count": 69,
   "id": "84f1568f",
   "metadata": {},
   "outputs": [
    {
     "data": {
      "text/plain": [
       "'https://www.google.com/search?q=BTC&lr=lang_en&biw=1920&bih=976&source=lnt&&tbs=lr:lang_1en,cdr:1,cd_min:02/01/2020,cd_max:02/01/2020,sbd:1&tbm=nws&start=0'"
      ]
     },
     "execution_count": 69,
     "metadata": {},
     "output_type": "execute_result"
    }
   ],
   "source": [
    "googlenews.url"
   ]
  },
  {
   "cell_type": "code",
   "execution_count": 56,
   "id": "431a20b5",
   "metadata": {},
   "outputs": [
    {
     "data": {
      "text/plain": [
       "10"
      ]
     },
     "execution_count": 56,
     "metadata": {},
     "output_type": "execute_result"
    }
   ],
   "source": [
    "googlenews.total_count()"
   ]
  },
  {
   "cell_type": "code",
   "execution_count": 57,
   "id": "16d25ae0",
   "metadata": {
    "scrolled": false
   },
   "outputs": [
    {
     "data": {
      "text/plain": [
       "['https://cointelegraph.com/news/12-to-12k-the-100-000-bitcoin-halving-is-just-100-days-away',\n",
       " 'https://cointelegraph.com/news/bitcoin-100k-bullrun-is-here-say-crypto-youtubers-as-price-eyes-10k',\n",
       " 'https://dailyhodl.com/2020/02/01/crypto-legend-peter-brandt-analyzes-btc-litecoin-and-xrp-says-early-signs-suggest-bitcoin-will-rally-much-higher-than-100000/',\n",
       " 'https://cointelegraph.com/news/eth-co-founder-vitalik-buterin-bitcoin-cash-is-not-bitcoin',\n",
       " 'https://cointelegraph.com/news/ripple-unlocks-half-billion-tokens-from-escrow-as-xrp-price-up-26-ytd',\n",
       " 'https://bitcoinist.com/upbit-exchange-execs-cleared-of-fraud-charges-in-south-korea/',\n",
       " 'https://www.coindesk.com/markets/2020/02/01/stacking-fasts-inside-the-crypto-communitys-new-diet-craze/',\n",
       " 'https://thewire.in/government/northeast-budget-allocation-assam-projects',\n",
       " 'https://www.crypto-news-flash.com/bitcoin-these-5-elements-hint-to-an-upcoming-bullrun/',\n",
       " 'https://dailyhodl.com/2020/02/01/ethereum-insiders-are-hoarding-eth-miners-set-to-shatter-major-milestone-report/']"
      ]
     },
     "execution_count": 57,
     "metadata": {},
     "output_type": "execute_result"
    }
   ],
   "source": [
    "googlenews.get_links()"
   ]
  },
  {
   "cell_type": "code",
   "execution_count": 58,
   "id": "bdc5cc35",
   "metadata": {},
   "outputs": [
    {
     "data": {
      "text/plain": [
       "['$12 to $12K: The $100,000 Bitcoin Halving Is Just 100 Days Away',\n",
       " 'Bitcoin $100K Bullrun Is Here, Say Crypto YouTubers as Price Eyes $10K',\n",
       " 'Crypto Legend Peter Brandt Analyzes BTC, Litecoin and XRP, Says Early Signs Suggest Bitcoin Will Rally R...',\n",
       " 'ETH Co-Founder Vitalik Buterin: “Bitcoin Cash Is Not Bitcoin”',\n",
       " 'Ripple Unlocks Half Billion Tokens From Escrow as XRP Price Up 26% YTD',\n",
       " 'Upbit Exchange Execs Cleared of Fraud Charges in South ...',\n",
       " \"Stacking Fasts: Inside the Crypto Community's New Diet Craze\",\n",
       " \"Budget Allocation for Northeast's Territorial Councils Increased\",\n",
       " 'Bitcoin: These 5 key factors hint to an upcoming bullrun',\n",
       " 'Ethereum Insiders Are Hoarding ETH, Miners Set to Shatter Major Milestone: Report']"
      ]
     },
     "execution_count": 58,
     "metadata": {},
     "output_type": "execute_result"
    }
   ],
   "source": [
    "result"
   ]
  },
  {
   "cell_type": "code",
   "execution_count": 64,
   "id": "450a9e82",
   "metadata": {},
   "outputs": [],
   "source": [
    "googlenews.clear()\n",
    "\n",
    "googlenews = GoogleNews(start='02/01/2020',end='02/01/2020')\n",
    "googlenews.search('BTC')\n",
    "googlenews.set_lang('ko')\n",
    "# googlenews.get_page()\n",
    "\n",
    "result = googlenews.get_texts()\n"
   ]
  },
  {
   "cell_type": "code",
   "execution_count": 65,
   "id": "290bcd21",
   "metadata": {},
   "outputs": [
    {
     "data": {
      "text/plain": [
       "['$12 to $12K: The $100,000 Bitcoin Halving Is Just 100 Days Away',\n",
       " 'Bitcoin $100K Bullrun Is Here, Say Crypto YouTubers as Price Eyes $10K',\n",
       " 'Crypto Legend Peter Brandt Analyzes BTC, Litecoin and XRP, Says Early Signs Suggest Bitcoin Will Rally R...',\n",
       " 'ETH Co-Founder Vitalik Buterin: “Bitcoin Cash Is Not Bitcoin”',\n",
       " 'Ripple Unlocks Half Billion Tokens From Escrow as XRP Price Up 26% YTD',\n",
       " 'Upbit Exchange Execs Cleared of Fraud Charges in South ...',\n",
       " \"Stacking Fasts: Inside the Crypto Community's New Diet Craze\",\n",
       " \"Budget Allocation for Northeast's Territorial Councils Increased\",\n",
       " 'Bitcoin: These 5 key factors hint to an upcoming bullrun',\n",
       " 'Ethereum Insiders Are Hoarding ETH, Miners Set to Shatter Major Milestone: Report']"
      ]
     },
     "execution_count": 65,
     "metadata": {},
     "output_type": "execute_result"
    }
   ],
   "source": [
    "result"
   ]
  },
  {
   "cell_type": "code",
   "execution_count": 66,
   "id": "3c798d7b",
   "metadata": {},
   "outputs": [
    {
     "data": {
      "text/plain": [
       "'https://www.google.com/search?q=BTC&lr=lang_en&biw=1920&bih=976&source=lnt&&tbs=lr:lang_1en,cdr:1,cd_min:02/01/2020,cd_max:02/01/2020,sbd:1&tbm=nws&start=0'"
      ]
     },
     "execution_count": 66,
     "metadata": {},
     "output_type": "execute_result"
    }
   ],
   "source": [
    "googlenews.url"
   ]
  },
  {
   "cell_type": "markdown",
   "id": "54d2a13b",
   "metadata": {},
   "source": [
    "# with time\n",
    "\n",
    "- 날짜에 따라는 변하지만\n",
    "- 시간에 따라 결과는 변하지 않음"
   ]
  },
  {
   "cell_type": "code",
   "execution_count": 70,
   "id": "d5ddfa01",
   "metadata": {},
   "outputs": [],
   "source": [
    "import datetime as dt"
   ]
  },
  {
   "cell_type": "code",
   "execution_count": null,
   "id": "527630dc",
   "metadata": {},
   "outputs": [],
   "source": [
    "dt.datetime('2020')"
   ]
  },
  {
   "cell_type": "code",
   "execution_count": 89,
   "id": "6af8de0d",
   "metadata": {},
   "outputs": [
    {
     "data": {
      "text/plain": [
       "['The year for Bitcoin: A 2021 roundup of the flagship crypto',\n",
       " 'How does bitcoin correlate with U.S. dollar? (Cryptocurrency ...',\n",
       " 'Unknown whale swiftly moves $432 million worth of Bitcoin',\n",
       " 'Bitcoin starts 2022 at $47.2K as fresh research pins performance on China trader exodus',\n",
       " 'Bitcoin Stock-to-flow model invalidated as BTC closes 2021 below $100,000',\n",
       " \"Gold Bug Peter Schiff Claims Bitcoin's Yearly Gain of 60 ...\",\n",
       " 'Bitcoin Bull Anthony Pompliano Lays Out Crypto Outlook for 2022, Says BTC Could Be Correlated to This Surpr...',\n",
       " 'In 2022, Workers Will Be Paid In Bitcoin And Cryptocurrency',\n",
       " 'Survey: Only 24% Think Bitcoin Price Will Be Below $50K By End of 2022',\n",
       " 'El precio de Bitcoin comienza el 2022 en USD 47,200, y una nueva investigación atribuye el rendimiento al éxodo de los traders de China']"
      ]
     },
     "execution_count": 89,
     "metadata": {},
     "output_type": "execute_result"
    }
   ],
   "source": [
    "start = \"2022-01-01T02:00:00+00:00\"\n",
    "end = \"2022-01-01T04:00:00+00:00\"\n",
    "\n",
    "googlenews.clear()\n",
    "\n",
    "googlenews = GoogleNews(start=start,end=end)\n",
    "googlenews.search('BTC')\n",
    "result = googlenews.get_texts()\n",
    "result"
   ]
  },
  {
   "cell_type": "code",
   "execution_count": 90,
   "id": "720bdf3d",
   "metadata": {},
   "outputs": [
    {
     "data": {
      "text/plain": [
       "['The year for Bitcoin: A 2021 roundup of the flagship crypto',\n",
       " 'How does bitcoin correlate with U.S. dollar? (Cryptocurrency ...',\n",
       " 'Unknown whale swiftly moves $432 million worth of Bitcoin',\n",
       " 'Bitcoin starts 2022 at $47.2K as fresh research pins performance on China trader exodus',\n",
       " 'Bitcoin Stock-to-flow model invalidated as BTC closes 2021 below $100,000',\n",
       " \"Gold Bug Peter Schiff Claims Bitcoin's Yearly Gain of 60 ...\",\n",
       " 'Bitcoin Bull Anthony Pompliano Lays Out Crypto Outlook for 2022, Says BTC Could Be Correlated to This Surpr...',\n",
       " 'In 2022, Workers Will Be Paid In Bitcoin And Cryptocurrency',\n",
       " 'Survey: Only 24% Think Bitcoin Price Will Be Below $50K By End of 2022',\n",
       " 'El precio de Bitcoin comienza el 2022 en USD 47,200, y una nueva investigación atribuye el rendimiento al éxodo de los traders de China']"
      ]
     },
     "execution_count": 90,
     "metadata": {},
     "output_type": "execute_result"
    }
   ],
   "source": [
    "start = \"2022-01-01T04:00:00+00:00\"\n",
    "end = \"2022-01-01T06:00:00+00:00\"\n",
    "\n",
    "googlenews.clear()\n",
    "\n",
    "googlenews = GoogleNews(start=start,end=end)\n",
    "googlenews.search('BTC')\n",
    "result = googlenews.get_texts()\n",
    "result"
   ]
  },
  {
   "cell_type": "code",
   "execution_count": 91,
   "id": "6f15f4cf",
   "metadata": {},
   "outputs": [
    {
     "data": {
      "text/plain": [
       "['The year for Bitcoin: A 2021 roundup of the flagship crypto',\n",
       " 'How does bitcoin correlate with U.S. dollar? (Cryptocurrency ...',\n",
       " 'Unknown whale swiftly moves $432 million worth of Bitcoin',\n",
       " 'Bitcoin starts 2022 at $47.2K as fresh research pins performance on China trader exodus',\n",
       " 'Bitcoin Stock-to-flow model invalidated as BTC closes 2021 below $100,000',\n",
       " \"Gold Bug Peter Schiff Claims Bitcoin's Yearly Gain of 60 ...\",\n",
       " 'Bitcoin Bull Anthony Pompliano Lays Out Crypto Outlook for 2022, Says BTC Could Be Correlated to This Surpr...',\n",
       " 'In 2022, Workers Will Be Paid In Bitcoin And Cryptocurrency',\n",
       " 'Survey: Only 24% Think Bitcoin Price Will Be Below $50K By End of 2022',\n",
       " 'El precio de Bitcoin comienza el 2022 en USD 47,200, y una nueva investigación atribuye el rendimiento al éxodo de los traders de China']"
      ]
     },
     "execution_count": 91,
     "metadata": {},
     "output_type": "execute_result"
    }
   ],
   "source": [
    "\n",
    "start = \"2022-01-01T06:00:00+00:00\"\n",
    "end = \"2022-01-01T08:00:00+00:00\"\n",
    "\n",
    "googlenews.clear()\n",
    "\n",
    "googlenews = GoogleNews(start=start,end=end)\n",
    "googlenews.search('BTC')\n",
    "result = googlenews.get_texts()\n",
    "result"
   ]
  },
  {
   "cell_type": "code",
   "execution_count": 92,
   "id": "180555dc",
   "metadata": {},
   "outputs": [],
   "source": [
    "googlenews.clear()\n",
    "\n",
    "googlenews = GoogleNews(start='01/01/2022',end='01/01/2022')\n",
    "googlenews.search('BTC')\n",
    "googlenews.set_lang('ko')\n",
    "# googlenews.get_page()\n",
    "\n",
    "result = googlenews.get_texts()\n"
   ]
  },
  {
   "cell_type": "code",
   "execution_count": 93,
   "id": "4f69927f",
   "metadata": {},
   "outputs": [
    {
     "data": {
      "text/plain": [
       "['The year for Bitcoin: A 2021 roundup of the flagship crypto',\n",
       " 'How does bitcoin correlate with U.S. dollar? (Cryptocurrency ...',\n",
       " 'Unknown whale swiftly moves $432 million worth of Bitcoin',\n",
       " 'Bitcoin starts 2022 at $47.2K as fresh research pins performance on China trader exodus',\n",
       " 'Bitcoin Stock-to-flow model invalidated as BTC closes 2021 below $100,000',\n",
       " \"Gold Bug Peter Schiff Claims Bitcoin's Yearly Gain of 60 ...\",\n",
       " 'Bitcoin Bull Anthony Pompliano Lays Out Crypto Outlook for 2022, Says BTC Could Be Correlated to This Surpr...',\n",
       " 'In 2022, Workers Will Be Paid In Bitcoin And Cryptocurrency',\n",
       " 'Survey: Only 24% Think Bitcoin Price Will Be Below $50K By End of 2022',\n",
       " 'El precio de Bitcoin comienza el 2022 en USD 47,200, y una nueva investigación atribuye el rendimiento al éxodo de los traders de China']"
      ]
     },
     "execution_count": 93,
     "metadata": {},
     "output_type": "execute_result"
    }
   ],
   "source": [
    "result"
   ]
  },
  {
   "cell_type": "code",
   "execution_count": 95,
   "id": "8a87d8ce",
   "metadata": {},
   "outputs": [
    {
     "data": {
      "text/plain": [
       "['Bitcoin price closes in on $40K, but pro traders are still skeptical',\n",
       " 'MicroStrategy (MSTR) Bought $25 Million in Bitcoin (BTC ...',\n",
       " 'MicroStrategy Purchased 660 More BTC for $25 Million',\n",
       " 'Michael Saylor: MicroStrategy Exploring Options to Use Its ...',\n",
       " 'Bitcoin: Delusions of money',\n",
       " 'The Bitcoin Nation: El Salvador Has Ambitious Plans for Cryptocurrency',\n",
       " '$2.5B in stolen BTC from Bitfinex hack awakens',\n",
       " 'NYDIG Launches Service for Workers to Get Paid in Bitcoin',\n",
       " \"Fidelity: Bitcoin is a 'superior form of money'\",\n",
       " 'Bitcoin (BTC) Daily RSI Gives Signal That Historically ...']"
      ]
     },
     "execution_count": 95,
     "metadata": {},
     "output_type": "execute_result"
    }
   ],
   "source": [
    "googlenews.clear()\n",
    "\n",
    "googlenews = GoogleNews(start='02/01/2022',end='02/01/2022')\n",
    "googlenews.search('BTC')\n",
    "googlenews.set_lang('ko')\n",
    "# googlenews.get_page()\n",
    "\n",
    "result = googlenews.get_texts()\n",
    "result"
   ]
  }
 ],
 "metadata": {
  "kernelspec": {
   "display_name": "data_sources",
   "language": "python",
   "name": "data_sources"
  },
  "language_info": {
   "codemirror_mode": {
    "name": "ipython",
    "version": 3
   },
   "file_extension": ".py",
   "mimetype": "text/x-python",
   "name": "python",
   "nbconvert_exporter": "python",
   "pygments_lexer": "ipython3",
   "version": "3.8.13"
  }
 },
 "nbformat": 4,
 "nbformat_minor": 5
}
