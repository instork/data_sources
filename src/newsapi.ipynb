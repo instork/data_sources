{
 "cells": [
  {
   "cell_type": "markdown",
   "id": "6808438f",
   "metadata": {},
   "source": [
    "- https://newsapi.org/docs/endpoints/everything"
   ]
  },
  {
   "cell_type": "markdown",
   "id": "8a9ff8e6",
   "metadata": {},
   "source": [
    "- published at에 대한 나라 정보가 없음"
   ]
  },
  {
   "cell_type": "code",
   "execution_count": 1,
   "id": "cfb6896e",
   "metadata": {},
   "outputs": [],
   "source": [
    "import os"
   ]
  },
  {
   "cell_type": "code",
   "execution_count": 2,
   "id": "a295dc66",
   "metadata": {},
   "outputs": [
    {
     "name": "stdout",
     "output_type": "stream",
     "text": [
      "{'source': {'id': 'reuters', 'name': 'Reuters'}, 'author': None, 'title': \"Crypto crash threatens North Korea's stolen funds as it ramps up weapons tests - Reuters.com\", 'description': 'The nosedive in cryptocurrency markets has wiped out millions of dollars in funds stolen by North Korean hackers, four digital investigators say, threatening a key source of funding for the sanctions-stricken country and its weapons programmes.', 'url': 'https://www.reuters.com/technology/crypto-crash-threatens-north-koreas-stolen-funds-it-ramps-up-weapons-tests-2022-06-28/', 'urlToImage': 'https://www.reuters.com/resizer/DcjvKwbcVs6_4Xpag10d_1cgnww=/1200x628/smart/filters:quality(80)/cloudfront-us-east-2.images.arcpublishing.com/reuters/NNKNZWW7C5LKLF7C3PKVXHFZFY.jpg', 'publishedAt': '2022-06-28T23:56:00Z', 'content': 'SEOUL, June 29 (Reuters) - The nosedive in cryptocurrency markets has wiped out millions of dollars in funds stolen by North Korean hackers, four digital investigators say, threatening a key source o… [+9167 chars]'}\n"
     ]
    }
   ],
   "source": [
    "import os\n",
    "from dotenv import load_dotenv\n",
    "import requests\n",
    "import json\n",
    "\n",
    "load_dotenv()\n",
    "key = os.getenv('NEWS_API_KEY')\n",
    "url = ('https://newsapi.org/v2/everything?'\n",
    "       #'sources?country=us'\n",
    "       'q=bitcoin will&'\n",
    "       'from=2022-06-28&'\n",
    "       'to=2022-06-28&'\n",
    "       'sortBy=popularity&'\n",
    "       f'apiKey={key}')\n",
    "\n",
    "response = requests.get(url)\n",
    "res = json.loads(response.text)['articles']\n",
    "\n",
    "print(res[0])"
   ]
  },
  {
   "cell_type": "code",
   "execution_count": 3,
   "id": "79f747cc",
   "metadata": {},
   "outputs": [
    {
     "name": "stdout",
     "output_type": "stream",
     "text": [
      "2022-06-28T23:56:00Z\n",
      "2022-06-28T20:05:48Z\n",
      "2022-06-28T20:40:56Z\n",
      "2022-06-28T16:01:00Z\n",
      "2022-06-28T11:02:00Z\n",
      "2022-06-28T10:15:14Z\n",
      "2022-06-28T10:55:33Z\n",
      "2022-06-28T13:14:49Z\n",
      "2022-06-28T15:05:04Z\n",
      "2022-06-28T21:00:07Z\n",
      "2022-06-28T13:59:22Z\n",
      "2022-06-28T23:13:50Z\n",
      "2022-06-28T19:45:23Z\n",
      "2022-06-28T18:00:22Z\n",
      "2022-06-28T20:06:36Z\n",
      "2022-06-28T11:31:01Z\n",
      "2022-06-28T19:55:20Z\n",
      "2022-06-28T20:18:35Z\n",
      "2022-06-28T20:03:08Z\n",
      "2022-06-28T14:50:00Z\n",
      "2022-06-28T21:58:03Z\n",
      "2022-06-28T12:00:00Z\n",
      "2022-06-28T20:27:44Z\n",
      "2022-06-28T07:00:00Z\n",
      "2022-06-28T20:28:10Z\n",
      "2022-06-28T00:29:27Z\n",
      "2022-06-28T23:14:14Z\n",
      "2022-06-28T14:52:33Z\n",
      "2022-06-28T21:01:25Z\n",
      "2022-06-28T15:09:56Z\n",
      "2022-06-28T13:30:00Z\n",
      "2022-06-28T18:49:22Z\n",
      "2022-06-28T11:39:13Z\n",
      "2022-06-28T00:30:00Z\n",
      "2022-06-28T09:00:00Z\n",
      "2022-06-28T14:54:43Z\n",
      "2022-06-28T01:30:00Z\n",
      "2022-06-28T12:00:00Z\n",
      "2022-06-28T12:00:00Z\n",
      "2022-06-28T18:30:00Z\n",
      "2022-06-28T02:00:00Z\n",
      "2022-06-28T12:00:00Z\n",
      "2022-06-28T12:30:00Z\n",
      "2022-06-28T20:45:41Z\n",
      "2022-06-28T00:29:27Z\n",
      "2022-06-28T20:27:44Z\n",
      "2022-06-28T18:39:25Z\n",
      "2022-06-28T20:28:10Z\n",
      "2022-06-28T20:05:00Z\n",
      "2022-06-28T23:14:14Z\n",
      "2022-06-28T14:52:33Z\n",
      "2022-06-28T22:37:00Z\n",
      "2022-06-28T03:34:00Z\n",
      "2022-06-28T08:13:00Z\n",
      "2022-06-28T07:00:00Z\n",
      "2022-06-28T12:04:00Z\n",
      "2022-06-28T13:15:00Z\n",
      "2022-06-28T21:01:25Z\n",
      "2022-06-28T22:30:18Z\n",
      "2022-06-28T17:22:12Z\n",
      "2022-06-28T13:30:00Z\n",
      "2022-06-28T15:30:00Z\n",
      "2022-06-28T21:21:03Z\n",
      "2022-06-28T14:40:50Z\n",
      "2022-06-28T14:40:12Z\n",
      "2022-06-28T20:13:23Z\n",
      "2022-06-28T14:21:24Z\n",
      "2022-06-28T09:17:09Z\n",
      "2022-06-28T19:20:35Z\n",
      "2022-06-28T02:33:28Z\n",
      "2022-06-28T17:30:00Z\n",
      "2022-06-28T20:41:47Z\n",
      "2022-06-28T06:07:54Z\n",
      "2022-06-28T10:20:57Z\n",
      "2022-06-28T17:30:00Z\n",
      "2022-06-28T16:45:00Z\n",
      "2022-06-28T05:11:39Z\n",
      "2022-06-28T13:05:16Z\n",
      "2022-06-28T13:05:16Z\n",
      "2022-06-28T13:05:16Z\n",
      "2022-06-28T16:16:06Z\n",
      "2022-06-28T13:12:00Z\n",
      "2022-06-28T02:24:03Z\n",
      "2022-06-28T23:56:36Z\n",
      "2022-06-28T17:31:17Z\n",
      "2022-06-28T06:28:00Z\n",
      "2022-06-28T09:00:56Z\n",
      "2022-06-28T23:56:36Z\n",
      "2022-06-28T12:38:49Z\n",
      "2022-06-28T06:13:24Z\n",
      "2022-06-28T22:01:28Z\n",
      "2022-06-28T23:00:17Z\n",
      "2022-06-28T14:53:38Z\n",
      "2022-06-28T16:21:53Z\n",
      "2022-06-28T14:30:01Z\n",
      "2022-06-28T21:31:10Z\n",
      "2022-06-28T20:58:00Z\n",
      "2022-06-28T20:41:57Z\n",
      "2022-06-28T06:30:53Z\n",
      "2022-06-28T15:45:18Z\n"
     ]
    }
   ],
   "source": [
    "for i in res:\n",
    "    print(i['publishedAt'])"
   ]
  },
  {
   "cell_type": "code",
   "execution_count": 4,
   "id": "bae34689",
   "metadata": {},
   "outputs": [
    {
     "ename": "KeyError",
     "evalue": "'articles'",
     "output_type": "error",
     "traceback": [
      "\u001b[0;31m---------------------------------------------------------------------------\u001b[0m",
      "\u001b[0;31mKeyError\u001b[0m                                  Traceback (most recent call last)",
      "Input \u001b[0;32mIn [4]\u001b[0m, in \u001b[0;36m<cell line: 9>\u001b[0;34m()\u001b[0m\n\u001b[1;32m      1\u001b[0m url \u001b[38;5;241m=\u001b[39m (\u001b[38;5;124m'\u001b[39m\u001b[38;5;124mhttps://newsapi.org/v2/everything?\u001b[39m\u001b[38;5;124m'\u001b[39m\n\u001b[1;32m      2\u001b[0m        \u001b[38;5;124m'\u001b[39m\u001b[38;5;124mq=bitcoin will&\u001b[39m\u001b[38;5;124m'\u001b[39m\n\u001b[1;32m      3\u001b[0m        \u001b[38;5;124m'\u001b[39m\u001b[38;5;124mfrom=2022-05-28&\u001b[39m\u001b[38;5;124m'\u001b[39m\n\u001b[1;32m      4\u001b[0m        \u001b[38;5;124m'\u001b[39m\u001b[38;5;124mto=2022-05-28&\u001b[39m\u001b[38;5;124m'\u001b[39m\n\u001b[1;32m      5\u001b[0m        \u001b[38;5;124m'\u001b[39m\u001b[38;5;124msortBy=popularity&\u001b[39m\u001b[38;5;124m'\u001b[39m\n\u001b[1;32m      6\u001b[0m        \u001b[38;5;124mf\u001b[39m\u001b[38;5;124m'\u001b[39m\u001b[38;5;124mapiKey=\u001b[39m\u001b[38;5;132;01m{\u001b[39;00mkey\u001b[38;5;132;01m}\u001b[39;00m\u001b[38;5;124m'\u001b[39m)\n\u001b[1;32m      8\u001b[0m response \u001b[38;5;241m=\u001b[39m requests\u001b[38;5;241m.\u001b[39mget(url)\n\u001b[0;32m----> 9\u001b[0m res \u001b[38;5;241m=\u001b[39m \u001b[43mjson\u001b[49m\u001b[38;5;241;43m.\u001b[39;49m\u001b[43mloads\u001b[49m\u001b[43m(\u001b[49m\u001b[43mresponse\u001b[49m\u001b[38;5;241;43m.\u001b[39;49m\u001b[43mtext\u001b[49m\u001b[43m)\u001b[49m\u001b[43m[\u001b[49m\u001b[38;5;124;43m'\u001b[39;49m\u001b[38;5;124;43marticles\u001b[39;49m\u001b[38;5;124;43m'\u001b[39;49m\u001b[43m]\u001b[49m\n\u001b[1;32m     11\u001b[0m \u001b[38;5;28mprint\u001b[39m(res[\u001b[38;5;241m0\u001b[39m])\n",
      "\u001b[0;31mKeyError\u001b[0m: 'articles'"
     ]
    }
   ],
   "source": [
    "url = ('https://newsapi.org/v2/everything?'\n",
    "       'q=bitcoin will&'\n",
    "       'from=2022-05-28&'\n",
    "       'to=2022-05-28&'\n",
    "       'sortBy=popularity&'\n",
    "       f'apiKey={key}')\n",
    "\n",
    "response = requests.get(url)\n",
    "res = json.loads(response.text)['articles']\n",
    "\n",
    "print(res[0])"
   ]
  },
  {
   "cell_type": "markdown",
   "id": "a2f196ca",
   "metadata": {},
   "source": [
    "- https://newsapi.org/pricing\n",
    "    - Search articles up to a month old "
   ]
  },
  {
   "cell_type": "markdown",
   "id": "98f35724",
   "metadata": {},
   "source": [
    "- publishedAt\n",
    "    - string\n",
    "    - The date and time that the article was published, in UTC (+000)"
   ]
  }
 ],
 "metadata": {
  "kernelspec": {
   "display_name": "data_sources",
   "language": "python",
   "name": "data_sources"
  },
  "language_info": {
   "codemirror_mode": {
    "name": "ipython",
    "version": 3
   },
   "file_extension": ".py",
   "mimetype": "text/x-python",
   "name": "python",
   "nbconvert_exporter": "python",
   "pygments_lexer": "ipython3",
   "version": "3.8.13"
  }
 },
 "nbformat": 4,
 "nbformat_minor": 5
}
