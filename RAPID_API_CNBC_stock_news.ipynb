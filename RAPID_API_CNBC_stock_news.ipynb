{
 "cells": [
  {
   "cell_type": "markdown",
   "id": "c5ed9c05",
   "metadata": {},
   "source": [
    "#### CNBC API  참고 사이트 \n",
    "\n",
    "https://rapidapi.com/apidojo/api/cnbc/\n",
    "\n",
    "RAPID_API 키 사용하려면 가서 가입하시고 cnbc 팔로우 하시면\n",
    "자동으로 API_KEY 부여 됩니다.\n",
    "\n",
    "response 결과는 깃에서 보기 너무 길어서 \n",
    "생략했습니다.\n",
    "\n",
    "** 샵 제거하고 보시면 됩니다"
   ]
  },
  {
   "cell_type": "code",
   "execution_count": 1,
   "id": "4924b5ca",
   "metadata": {},
   "outputs": [],
   "source": [
    "import os \n",
    "import requests \n",
    "from dotenv import load_dotenv"
   ]
  },
  {
   "cell_type": "code",
   "execution_count": 2,
   "id": "1796549a",
   "metadata": {},
   "outputs": [],
   "source": [
    "from PIL import Image\n",
    "import IPython\n",
    "from io import BytesIO"
   ]
  },
  {
   "cell_type": "code",
   "execution_count": 3,
   "id": "9d4bf578",
   "metadata": {},
   "outputs": [
    {
     "data": {
      "text/plain": [
       "True"
      ]
     },
     "execution_count": 3,
     "metadata": {},
     "output_type": "execute_result"
    }
   ],
   "source": [
    "# load dotenv\n",
    "load_dotenv()"
   ]
  },
  {
   "cell_type": "code",
   "execution_count": 4,
   "id": "71f8b43e",
   "metadata": {},
   "outputs": [],
   "source": [
    "# RAPID_API KEY 설정 \n",
    "api_key = os.getenv(\"RAPID_API_KEY\")"
   ]
  },
  {
   "cell_type": "markdown",
   "id": "0beb25ed",
   "metadata": {},
   "source": [
    "#### get-meta-data\n",
    "\n",
    "Get meta data that supports for other endpoints"
   ]
  },
  {
   "cell_type": "code",
   "execution_count": 7,
   "id": "813bc126",
   "metadata": {},
   "outputs": [],
   "source": [
    "\n",
    "url = \"https://cnbc.p.rapidapi.com/get-meta-data\"\n",
    "\n",
    "headers = {\n",
    "    \"X-RapidAPI-Key\": api_key,\n",
    "    \"X-RapidAPI-Host\": \"cnbc.p.rapidapi.com\"\n",
    "    }\n",
    "\n",
    "response = requests.request(\"GET\", url, headers=headers)\n",
    "\n",
    "# print(response.text)\n",
    "# print(response.json())"
   ]
  },
  {
   "cell_type": "markdown",
   "id": "9a78d53f",
   "metadata": {},
   "source": [
    "#### auto-complete \n",
    "querystring에 원하는 회사를 쿼리에 설정 \n",
    "ex)\n",
    "- querystring = {\"q\":\"tesla\"}"
   ]
  },
  {
   "cell_type": "code",
   "execution_count": 52,
   "id": "2cda5b85",
   "metadata": {},
   "outputs": [],
   "source": [
    "url = \"https://cnbc.p.rapidapi.com/v2/auto-complete\"\n",
    "\n",
    "# 회사 설정 => 테슬라 \n",
    "querystring = {\"q\":\"tesla\"}\n",
    "\n",
    "headers = {\n",
    "    \"X-RapidAPI-Key\": api_key,\n",
    "    \"X-RapidAPI-Host\": \"cnbc.p.rapidapi.com\"\n",
    "}\n",
    "\n",
    "response = requests.request(\"GET\", url, headers=headers, params=querystring)\n",
    "\n",
    "# print(response.text)"
   ]
  },
  {
   "cell_type": "code",
   "execution_count": 65,
   "id": "c5ab05b1",
   "metadata": {},
   "outputs": [],
   "source": [
    "# json으로 확인\n",
    "# response.json()"
   ]
  },
  {
   "cell_type": "code",
   "execution_count": null,
   "id": "6a967fbf",
   "metadata": {},
   "outputs": [],
   "source": []
  },
  {
   "cell_type": "code",
   "execution_count": null,
   "id": "9fa356e9",
   "metadata": {},
   "outputs": [],
   "source": []
  },
  {
   "cell_type": "markdown",
   "id": "420db92b",
   "metadata": {},
   "source": [
    "## Get-chart\n",
    "\n",
    "Get raw data to draw price line chart of stock quote, index, exchange, etc…\n",
    "\n",
    "querystring:\n",
    "- symbol: 종목코드 \n",
    "- interval: 1d(하루), 1m(한달) , 5min(5분)"
   ]
  },
  {
   "cell_type": "code",
   "execution_count": 53,
   "id": "4f805477",
   "metadata": {
    "scrolled": true
   },
   "outputs": [],
   "source": [
    "url = \"https://cnbc.p.rapidapi.com/symbols/get-chart\"\n",
    "\n",
    "querystring = {\"symbol\":\"36276\",\"interval\":\"1min\"}\n",
    "\n",
    "headers = {\n",
    "    \"X-RapidAPI-Key\": api_key,\n",
    "    \"X-RapidAPI-Host\": \"cnbc.p.rapidapi.com\"\n",
    "}\n",
    "\n",
    "response = requests.request(\"GET\", url, headers=headers, params=querystring)\n",
    "\n",
    "# print(response.text)"
   ]
  },
  {
   "cell_type": "code",
   "execution_count": 70,
   "id": "f4cb0c57",
   "metadata": {},
   "outputs": [],
   "source": [
    "# json으로 확인\n",
    "# response.json()"
   ]
  },
  {
   "cell_type": "markdown",
   "id": "789f6f36",
   "metadata": {},
   "source": [
    "#### Get-summary\n",
    "Get summary information of stock quote, index, exchange, etc…\n",
    "\n",
    "querystring\n",
    "- issueIds: 종목 여러개 같이 입력\n",
    "\n",
    "ex)\n",
    "querystring = {\"issueIds\":\"36276,24812378\"}"
   ]
  },
  {
   "cell_type": "code",
   "execution_count": 55,
   "id": "c5c0266a",
   "metadata": {
    "scrolled": false
   },
   "outputs": [],
   "source": [
    "url = \"https://cnbc.p.rapidapi.com/symbols/get-summary\"\n",
    "\n",
    "querystring = {\"issueIds\":\"36276,24812378\"}\n",
    "\n",
    "headers = {\n",
    "    \"X-RapidAPI-Key\": api_key,\n",
    "    \"X-RapidAPI-Host\": \"cnbc.p.rapidapi.com\"\n",
    "}\n",
    "\n",
    "response = requests.request(\"GET\", url, headers=headers, params=querystring)\n",
    "\n",
    "# print(response.text)"
   ]
  },
  {
   "cell_type": "code",
   "execution_count": 71,
   "id": "ead2348a",
   "metadata": {},
   "outputs": [],
   "source": [
    "# json 으로 확인\n",
    "# response.json()"
   ]
  },
  {
   "cell_type": "markdown",
   "id": "86b40463",
   "metadata": {},
   "source": [
    "#### get-priceline-chart\n",
    "\n",
    "종목 차트 그려줍니다.\n",
    "Generate image of price line chart of specific stock quote, index, exchange, etc…\n",
    "\n",
    "querystring\n",
    "- issueId: 종목코드 \n",
    "- numberOfDays: 기간\n"
   ]
  },
  {
   "cell_type": "code",
   "execution_count": 57,
   "id": "9769b2a3",
   "metadata": {},
   "outputs": [],
   "source": [
    "url = \"https://cnbc.p.rapidapi.com/symbols/get-priceline-chart\"\n",
    "\n",
    "querystring = {\"issueId\":\"24812378\",\"numberOfDays\":\"1\"}\n",
    "\n",
    "headers = {\n",
    "    \"X-RapidAPI-Key\": api_key,\n",
    "    \"X-RapidAPI-Host\": \"cnbc.p.rapidapi.com\"\n",
    "}\n",
    "\n",
    "response = requests.request(\"GET\", url, headers=headers, params=querystring)\n",
    "\n",
    "# print(response.text)"
   ]
  },
  {
   "cell_type": "code",
   "execution_count": 78,
   "id": "f680f481",
   "metadata": {},
   "outputs": [],
   "source": [
    "# 외부로 출력\n",
    "img = Image.open(io.BytesIO(response.content))\n",
    "img.show()"
   ]
  },
  {
   "cell_type": "code",
   "execution_count": 79,
   "id": "1132d1f4",
   "metadata": {},
   "outputs": [
    {
     "data": {
      "image/png": "[encoded data removed]",
      "text/plain": [
       "<IPython.core.display.Image object>"
      ]
     },
     "execution_count": 79,
     "metadata": {
      "image/png": {
       "width": 500
      }
     },
     "output_type": "execute_result"
    }
   ],
   "source": [
    "# 이미지 출력\n",
    "img = response.content\n",
    "IPython.display.Image(img,width = 500)"
   ]
  },
  {
   "cell_type": "markdown",
   "id": "2f4f4e8c",
   "metadata": {},
   "source": [
    "#### get-fundamentals\n",
    "Get fundamental information of stock quote, index, exchange, etc\n",
    "기본적인 주식 정보 제공 \n",
    "\n",
    "querystring \n",
    "- issueIds: 종목 코드 여러개"
   ]
  },
  {
   "cell_type": "code",
   "execution_count": 58,
   "id": "4bb10a9e",
   "metadata": {},
   "outputs": [],
   "source": [
    "url = \"https://cnbc.p.rapidapi.com/symbols/get-fundamentals\"\n",
    "\n",
    "querystring = {\"issueIds\":\"36276,24812378\"}\n",
    "\n",
    "headers = {\n",
    "    \"X-RapidAPI-Key\": api_key,\n",
    "    \"X-RapidAPI-Host\": \"cnbc.p.rapidapi.com\"\n",
    "}\n",
    "\n",
    "response = requests.request(\"GET\", url, headers=headers, params=querystring)\n",
    "\n",
    "# print(response.text)"
   ]
  },
  {
   "cell_type": "code",
   "execution_count": 72,
   "id": "a7ad8b03",
   "metadata": {},
   "outputs": [],
   "source": [
    "# json으로 확인\n",
    "# response.json()"
   ]
  },
  {
   "cell_type": "markdown",
   "id": "5a2a2df2",
   "metadata": {},
   "source": [
    "#### get- list-indice \n",
    "List all available indices"
   ]
  },
  {
   "cell_type": "code",
   "execution_count": 59,
   "id": "0ea90a59",
   "metadata": {},
   "outputs": [],
   "source": [
    "url = \"https://cnbc.p.rapidapi.com/market/list-indices\"\n",
    "\n",
    "headers = {\n",
    "    \"X-RapidAPI-Key\": api_key,\n",
    "    \"X-RapidAPI-Host\": \"cnbc.p.rapidapi.com\"\n",
    "}\n",
    "\n",
    "response = requests.request(\"GET\", url, headers=headers)\n",
    "\n",
    "# print(response.text)"
   ]
  },
  {
   "cell_type": "code",
   "execution_count": 73,
   "id": "bd41fa65",
   "metadata": {},
   "outputs": [],
   "source": [
    "# json으로 확인\n",
    "# response.json()"
   ]
  },
  {
   "cell_type": "markdown",
   "id": "4c128d87",
   "metadata": {},
   "source": [
    "# News 데이터\n",
    "\n",
    "트렌딩 뉴스 제공\n",
    "\n",
    "querystring \n",
    "- tag : 항상 Articles로 설정\n",
    "- count: 뉴스 숫자 설정"
   ]
  },
  {
   "cell_type": "code",
   "execution_count": 60,
   "id": "2a154376",
   "metadata": {},
   "outputs": [],
   "source": [
    "url = \"https://cnbc.p.rapidapi.com/news/v2/list-trending\"\n",
    "\n",
    "querystring = {\"tag\":\"Articles\",\"count\":\"10\"}\n",
    "\n",
    "headers = {\n",
    "    \"X-RapidAPI-Key\": api_key,\n",
    "    \"X-RapidAPI-Host\": \"cnbc.p.rapidapi.com\"\n",
    "}\n",
    "\n",
    "response = requests.request(\"GET\", url, headers=headers, params=querystring)\n",
    "\n",
    "# print(response.text)"
   ]
  },
  {
   "cell_type": "code",
   "execution_count": 74,
   "id": "114b5ecf",
   "metadata": {},
   "outputs": [],
   "source": [
    "#json \n",
    "# response.json()"
   ]
  },
  {
   "cell_type": "code",
   "execution_count": 38,
   "id": "12f62df6",
   "metadata": {},
   "outputs": [
    {
     "data": {
      "text/plain": [
       "dict_keys(['data', 'extensions'])"
      ]
     },
     "execution_count": 38,
     "metadata": {},
     "output_type": "execute_result"
    }
   ],
   "source": [
    "# json dict, keys\n",
    "response.json().keys()"
   ]
  },
  {
   "cell_type": "code",
   "execution_count": 39,
   "id": "b29bd445",
   "metadata": {},
   "outputs": [
    {
     "data": {
      "text/plain": [
       "dict_keys(['__typename', 'id', 'headline', 'shorterHeadline', 'dateLastPublished', 'description', 'pageName', 'relatedTagsFilteredFormatted', 'dateFirstPublished', 'sectionHierarchyFormatted', 'authorFormatted', 'shortDateFirstPublished', 'shortDateLastPublished', 'url', 'type', 'premium', 'promoImage', 'featuredMedia', 'section'])"
      ]
     },
     "execution_count": 39,
     "metadata": {},
     "output_type": "execute_result"
    }
   ],
   "source": [
    "# 뉴스 데이터 컬럼 목록\n",
    "response.json()['data']['mostPopularEntries']['assets'][0].keys()"
   ]
  },
  {
   "cell_type": "code",
   "execution_count": 40,
   "id": "ae318537",
   "metadata": {},
   "outputs": [
    {
     "data": {
      "text/plain": [
       "{'__typename': 'cnbcnewsstory',\n",
       " 'id': 107078345,\n",
       " 'headline': 'I talked to 70 parents who raised highly successful adults: 4 things they refused to do with their kids',\n",
       " 'shorterHeadline': 'I talked to 70 parents who raised highly successful adults—here are 4 things they refuse to do',\n",
       " 'dateLastPublished': '2022-07-10T12:28:26+0000',\n",
       " 'description': \"Parenting expert and author Margot Bisnow, who is a mother to two entrepreneurial sons, interviewed 70 families about how to to raise resilient, happy and successful kids. Here's what she learned about what not to do.\",\n",
       " 'pageName': '107078345|2022/07/09/i-talked-to-70-parents-who-raised-highly-successful-adults-here-is-what-they-did-differently',\n",
       " 'relatedTagsFilteredFormatted': 'hobbies|business|psychology|make it contributors|parenting|entrepreneurship|entrepreneur|parents|children|relationships|selfimprovement',\n",
       " 'dateFirstPublished': '2022-07-09T14:28:43+0000',\n",
       " 'sectionHierarchyFormatted': 'make it success|make it raising successful kids',\n",
       " 'authorFormatted': 'margot machol bisnow',\n",
       " 'shortDateFirstPublished': '07/9/2022',\n",
       " 'shortDateLastPublished': '07/10/2022',\n",
       " 'url': 'https://www.cnbc.com/2022/07/09/i-talked-to-70-parents-who-raised-highly-successful-adults-here-is-what-they-did-differently.html',\n",
       " 'type': 'cnbcnewsstory',\n",
       " 'premium': False,\n",
       " 'promoImage': {'__typename': 'infographic',\n",
       "  'id': 107086460,\n",
       "  'url': 'https://image.cnbcfm.com/api/v1/image/107086460-1657309962784-GettyImages-1329328121_2.jpg?v=1657310008'},\n",
       " 'featuredMedia': {'__typename': 'image',\n",
       "  'url': 'https://image.cnbcfm.com/api/v1/image/107086460-1657309962784-GettyImages-1329328121_2.jpg?v=1657310008',\n",
       "  'type': 'image'},\n",
       " 'section': {'__typename': 'franchise',\n",
       "  'id': 106855545,\n",
       "  'shortestHeadline': 'Raising Successful Kids',\n",
       "  'tagName': 'Make It - Raising Successful Kids',\n",
       "  'url': 'https://www.cnbc.com/make-it/raising-successful-kids/',\n",
       "  'premium': False}}"
      ]
     },
     "execution_count": 40,
     "metadata": {},
     "output_type": "execute_result"
    }
   ],
   "source": [
    "# 뉴스 하나 확인 \n",
    "response.json()['data']['mostPopularEntries']['assets'][0]"
   ]
  },
  {
   "cell_type": "markdown",
   "id": "1476fd6d",
   "metadata": {},
   "source": [
    "### list-by-symbol\n",
    "List latest news by symbol name\n",
    "\n",
    "최근 뉴스 리스트 주식 회사 관련 제공\n",
    "\n",
    "querystring \n",
    "- symbol : 주식회사 코드 ex) \"AAPL\" (Apple)\n",
    "- page: 페이지수 ex) page:\"1\"\n",
    "- pageSize: 페이지 크기 pageSize:\"30\""
   ]
  },
  {
   "cell_type": "code",
   "execution_count": 61,
   "id": "30b668f1",
   "metadata": {},
   "outputs": [],
   "source": [
    "url = \"https://cnbc.p.rapidapi.com/news/v2/list-by-symbol\"\n",
    "\n",
    "querystring = {\"symbol\":\"AAPL\",\"page\":\"1\",\"pageSize\":\"5\"}\n",
    "\n",
    "headers = {\n",
    "    \"X-RapidAPI-Key\": api_key,\n",
    "    \"X-RapidAPI-Host\": \"cnbc.p.rapidapi.com\"\n",
    "}\n",
    "\n",
    "response = requests.request(\"GET\", url, headers=headers, params=querystring)\n",
    "\n",
    "# print(response.text)"
   ]
  },
  {
   "cell_type": "code",
   "execution_count": 75,
   "id": "c0ad6c28",
   "metadata": {},
   "outputs": [],
   "source": [
    "# response.json()"
   ]
  },
  {
   "cell_type": "code",
   "execution_count": 137,
   "id": "0c45fae5",
   "metadata": {},
   "outputs": [
    {
     "data": {
      "text/plain": [
       "dict_keys(['__typename', 'headline', 'pageName', 'description', 'dateFirstPublished', 'relatedTagsFilteredFormatted', 'sectionHierarchyFormatted', 'authorFormatted', 'shortDateFirstPublished', 'shortDateLastPublished', 'shorterHeadline', 'id', 'type', 'title', 'url', 'dateLastPublished', 'premium', 'promoImage', 'section', 'tickerSymbols'])"
      ]
     },
     "execution_count": 137,
     "metadata": {},
     "output_type": "execute_result"
    }
   ],
   "source": [
    "# 뉴스 결과 데이터 키 목록\n",
    "response.json()['data']['symbolEntries']['results'][0].keys()"
   ]
  },
  {
   "cell_type": "code",
   "execution_count": 138,
   "id": "2440cb0b",
   "metadata": {},
   "outputs": [
    {
     "data": {
      "text/plain": [
       "{'__typename': 'cnbcnewsstory',\n",
       " 'headline': \"Santoli: Stocks stumble on Covid caution and recession worries, but the rebound's fate is uncertain\",\n",
       " 'pageName': '107086886|2022/07/11/santoli-stocks-stumble-on-covid-caution-and-recession-worries-but-the-rebounds-fate-is-uncertain',\n",
       " 'description': 'This is the daily notebook of Mike Santoli, CNBC’s senior markets commentator, with ideas about trends, stocks and market statistics.',\n",
       " 'dateFirstPublished': '2022-07-11T16:20:55+0000',\n",
       " 'relatedTagsFilteredFormatted': 'investment strategy|sp 500 index|apple inc',\n",
       " 'sectionHierarchyFormatted': 'pro home|cnbc pro|pro santoli on stocks',\n",
       " 'authorFormatted': 'NA',\n",
       " 'shortDateFirstPublished': '07/11/2022',\n",
       " 'shortDateLastPublished': '07/11/2022',\n",
       " 'shorterHeadline': \"Santoli: Stocks stumble on recession worries. The rebound's fate is uncertain\",\n",
       " 'id': 107086886,\n",
       " 'type': 'cnbcnewsstory',\n",
       " 'title': \"Santoli: Stocks stumble on Covid caution and recession worries, but the rebound's fate is uncertain\",\n",
       " 'url': 'https://www.cnbc.com/2022/07/11/santoli-stocks-stumble-on-covid-caution-and-recession-worries-but-the-rebounds-fate-is-uncertain.html',\n",
       " 'dateLastPublished': '2022-07-11T16:20:55+0000',\n",
       " 'premium': True,\n",
       " 'promoImage': {'__typename': 'infographic',\n",
       "  'id': 107077288,\n",
       "  'url': 'https://image.cnbcfm.com/api/v1/image/107077288-NYSE-Trading-Floor-OB-Photo-220616-CC-PRESS-15.jpg?v=1655412293'},\n",
       " 'section': {'__typename': 'franchise',\n",
       "  'id': 106842200,\n",
       "  'shortestHeadline': 'Santoli on Stocks',\n",
       "  'tagName': 'Pro: Santoli on Stocks',\n",
       "  'url': 'https://www.cnbc.com/pro/santoli-on-stocks/',\n",
       "  'premium': True},\n",
       " 'tickerSymbols': [{'__typename': 'security', 'symbol': '.SPX'},\n",
       "  {'__typename': 'security', 'symbol': 'AAPL'}]}"
      ]
     },
     "execution_count": 138,
     "metadata": {},
     "output_type": "execute_result"
    }
   ],
   "source": [
    "# 뉴스 하나 확인\n",
    "response.json()['data']['symbolEntries']['results'][0]"
   ]
  },
  {
   "cell_type": "code",
   "execution_count": null,
   "id": "ac012804",
   "metadata": {},
   "outputs": [],
   "source": []
  },
  {
   "cell_type": "markdown",
   "id": "74623f5a",
   "metadata": {},
   "source": [
    "### list-special-reports \n",
    "\n",
    "List special reports\n",
    "특보 리스트 제공 \n",
    "\n",
    "querystring \n",
    "- PageSize: 페이지 사이즈 \n",
    "- page : 페이지 수 "
   ]
  },
  {
   "cell_type": "code",
   "execution_count": 81,
   "id": "53dec5cb",
   "metadata": {},
   "outputs": [],
   "source": [
    "url = \"https://cnbc.p.rapidapi.com/news/v2/list-special-reports\"\n",
    "\n",
    "querystring = {\"pageSize\":\"5\",\"page\":\"1\"}\n",
    "\n",
    "headers = {\n",
    "    \"X-RapidAPI-Key\": api_key,\n",
    "    \"X-RapidAPI-Host\": \"cnbc.p.rapidapi.com\"\n",
    "}\n",
    "\n",
    "response = requests.request(\"GET\", url, headers=headers, params=querystring)\n",
    "\n",
    "# print(response.text)"
   ]
  },
  {
   "cell_type": "code",
   "execution_count": 89,
   "id": "58d45507",
   "metadata": {},
   "outputs": [],
   "source": [
    "# response.json()"
   ]
  },
  {
   "cell_type": "code",
   "execution_count": 87,
   "id": "5c1336bd",
   "metadata": {},
   "outputs": [
    {
     "data": {
      "text/plain": [
       "dict_keys(['__typename', 'id', 'type', 'headline', 'shorterHeadline', 'description', 'pageName', 'relatedTagsFilteredFormatted', 'dateFirstPublished', 'sectionHierarchyFormatted', 'authorFormatted', 'shortDateFirstPublished', 'shortDateLastPublished', 'url', 'dateLastPublished', 'premium', 'promoImage', 'section', 'featuredMedia', 'duration', 'playbackURL', 'vcpsId'])"
      ]
     },
     "execution_count": 87,
     "metadata": {},
     "output_type": "execute_result"
    }
   ],
   "source": [
    "# 뉴스 데이터 키 목록\n",
    "response.json()['data']['specialReportsEntries']['results'][0].keys()"
   ]
  },
  {
   "cell_type": "code",
   "execution_count": 88,
   "id": "c411f145",
   "metadata": {},
   "outputs": [
    {
     "data": {
      "text/plain": [
       "{'__typename': 'cnbcvideo',\n",
       " 'id': 107086729,\n",
       " 'type': 'cnbcvideo',\n",
       " 'headline': \"Bitcoin will hit new all-time highs over next year, says CoinShares' Meltem Demirors\",\n",
       " 'shorterHeadline': \"Bitcoin will hit new all-time highs over next year, says CoinShares' Meltem Demirors\",\n",
       " 'description': \"Meltem Demirors, CoinShares chief strategy officer, joins CNBC's 'Squawk Box' to lay out her outlook for bitcoin and other cryptocurrencies ahead of the open on Monday.\",\n",
       " 'pageName': '7000253275|video/2022/07/11/bitcoin-will-hit-new-all-time-highs-over-next-year-says-coinshares-meltem-demirors',\n",
       " 'relatedTagsFilteredFormatted': 'bitcoin|cryptocurrency',\n",
       " 'dateFirstPublished': '2022-07-11T11:30:49+0000',\n",
       " 'sectionHierarchyFormatted': 'cnbc tv|squawk box us',\n",
       " 'authorFormatted': 'NA',\n",
       " 'shortDateFirstPublished': '07/11/2022',\n",
       " 'shortDateLastPublished': '07/11/2022',\n",
       " 'url': 'https://www.cnbc.com/video/2022/07/11/bitcoin-will-hit-new-all-time-highs-over-next-year-says-coinshares-meltem-demirors.html',\n",
       " 'dateLastPublished': '2022-07-11T16:42:11+0000',\n",
       " 'premium': False,\n",
       " 'promoImage': {'__typename': 'infographic',\n",
       "  'id': 107086730,\n",
       "  'url': 'https://image.cnbcfm.com/api/v1/image/107086730-16575371481657537144-24237136641-1080pnbcnews.jpg?v=1657537147'},\n",
       " 'section': {'__typename': 'franchise',\n",
       "  'id': 15838368,\n",
       "  'shortestHeadline': 'Squawk Box',\n",
       "  'tagName': 'Squawk Box U.S.',\n",
       "  'url': 'https://www.cnbc.com/squawk-box-us/',\n",
       "  'premium': False},\n",
       " 'featuredMedia': None,\n",
       " 'duration': 255,\n",
       " 'playbackURL': '//cnbcmbr-vh.akamaihd.net/i/mp4/VCPS/Y2022/M07D11/7000253275/1657537144-24237136641-hd_MBR_,0240,0300,0500,0700,0900,1300,1700,4500,.mp4.csmil/master.m3u8',\n",
       " 'vcpsId': 7000253275}"
      ]
     },
     "execution_count": 88,
     "metadata": {},
     "output_type": "execute_result"
    }
   ],
   "source": [
    "response.json()['data']['specialReportsEntries']['results'][0]"
   ]
  },
  {
   "cell_type": "code",
   "execution_count": null,
   "id": "133d78a4",
   "metadata": {},
   "outputs": [],
   "source": []
  }
 ],
 "metadata": {
  "kernelspec": {
   "display_name": "instrock",
   "language": "python",
   "name": "instrock"
  },
  "language_info": {
   "codemirror_mode": {
    "name": "ipython",
    "version": 3
   },
   "file_extension": ".py",
   "mimetype": "text/x-python",
   "name": "python",
   "nbconvert_exporter": "python",
   "pygments_lexer": "ipython3",
   "version": "3.8.13"
  }
 },
 "nbformat": 4,
 "nbformat_minor": 5
}
