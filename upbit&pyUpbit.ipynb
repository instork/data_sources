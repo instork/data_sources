{
 "cells": [
  {
   "cell_type": "markdown",
   "id": "6e42d3b8",
   "metadata": {},
   "source": [
    "# PyUpbit\n",
    "\n",
    "- https://github.com/sharebook-kr/pyupbit\n",
    "\n",
    "\n",
    "## 특징\n",
    "\n",
    "- 조회\n",
    "    - **Websocket은 초당 5회, 분당 100회** 연결 요청할 수 있습니다.\n",
    "    - 종목, 캔들, 체결, 티커, 호가 **API는 분당 600회, 초당 10회** 사용 가능합니다.\n",
    "- 주문\n",
    "    - 주문은 초당 8회, 분당 200회 / 주문 외 요청은 초당 30회, 분당 900회 사용 가능합니다.\n",
    "    - API 키 필요\n",
    "\n",
    "\n",
    "\n",
    "\n"
   ]
  },
  {
   "cell_type": "code",
   "execution_count": 1,
   "id": "c415fcbb",
   "metadata": {},
   "outputs": [],
   "source": [
    "import pyupbit\n"
   ]
  },
  {
   "cell_type": "code",
   "execution_count": 2,
   "id": "2e15a5dc",
   "metadata": {},
   "outputs": [
    {
     "data": {
      "text/html": [
       "<div>\n",
       "<style scoped>\n",
       "    .dataframe tbody tr th:only-of-type {\n",
       "        vertical-align: middle;\n",
       "    }\n",
       "\n",
       "    .dataframe tbody tr th {\n",
       "        vertical-align: top;\n",
       "    }\n",
       "\n",
       "    .dataframe thead th {\n",
       "        text-align: right;\n",
       "    }\n",
       "</style>\n",
       "<table border=\"1\" class=\"dataframe\">\n",
       "  <thead>\n",
       "    <tr style=\"text-align: right;\">\n",
       "      <th></th>\n",
       "      <th>open</th>\n",
       "      <th>high</th>\n",
       "      <th>low</th>\n",
       "      <th>close</th>\n",
       "      <th>volume</th>\n",
       "      <th>value</th>\n",
       "    </tr>\n",
       "  </thead>\n",
       "  <tbody>\n",
       "    <tr>\n",
       "      <th>2022-07-11 16:07:00</th>\n",
       "      <td>1504500.0</td>\n",
       "      <td>1504500.0</td>\n",
       "      <td>1502000.0</td>\n",
       "      <td>1502500.0</td>\n",
       "      <td>6.574635</td>\n",
       "      <td>9.883384e+06</td>\n",
       "    </tr>\n",
       "    <tr>\n",
       "      <th>2022-07-11 16:08:00</th>\n",
       "      <td>1502500.0</td>\n",
       "      <td>1504000.0</td>\n",
       "      <td>1501000.0</td>\n",
       "      <td>1503000.0</td>\n",
       "      <td>59.096149</td>\n",
       "      <td>8.876932e+07</td>\n",
       "    </tr>\n",
       "    <tr>\n",
       "      <th>2022-07-11 16:09:00</th>\n",
       "      <td>1503500.0</td>\n",
       "      <td>1503500.0</td>\n",
       "      <td>1501500.0</td>\n",
       "      <td>1501500.0</td>\n",
       "      <td>20.555680</td>\n",
       "      <td>3.086804e+07</td>\n",
       "    </tr>\n",
       "    <tr>\n",
       "      <th>2022-07-11 16:10:00</th>\n",
       "      <td>1501500.0</td>\n",
       "      <td>1503000.0</td>\n",
       "      <td>1501500.0</td>\n",
       "      <td>1503000.0</td>\n",
       "      <td>65.238492</td>\n",
       "      <td>9.803144e+07</td>\n",
       "    </tr>\n",
       "    <tr>\n",
       "      <th>2022-07-11 16:11:00</th>\n",
       "      <td>1501500.0</td>\n",
       "      <td>1501500.0</td>\n",
       "      <td>1501000.0</td>\n",
       "      <td>1501000.0</td>\n",
       "      <td>5.237007</td>\n",
       "      <td>7.861845e+06</td>\n",
       "    </tr>\n",
       "  </tbody>\n",
       "</table>\n",
       "</div>"
      ],
      "text/plain": [
       "                          open       high        low      close     volume  \\\n",
       "2022-07-11 16:07:00  1504500.0  1504500.0  1502000.0  1502500.0   6.574635   \n",
       "2022-07-11 16:08:00  1502500.0  1504000.0  1501000.0  1503000.0  59.096149   \n",
       "2022-07-11 16:09:00  1503500.0  1503500.0  1501500.0  1501500.0  20.555680   \n",
       "2022-07-11 16:10:00  1501500.0  1503000.0  1501500.0  1503000.0  65.238492   \n",
       "2022-07-11 16:11:00  1501500.0  1501500.0  1501000.0  1501000.0   5.237007   \n",
       "\n",
       "                            value  \n",
       "2022-07-11 16:07:00  9.883384e+06  \n",
       "2022-07-11 16:08:00  8.876932e+07  \n",
       "2022-07-11 16:09:00  3.086804e+07  \n",
       "2022-07-11 16:10:00  9.803144e+07  \n",
       "2022-07-11 16:11:00  7.861845e+06  "
      ]
     },
     "execution_count": 2,
     "metadata": {},
     "output_type": "execute_result"
    }
   ],
   "source": [
    "df = pyupbit.get_ohlcv(\"KRW-ETH\", interval='minute1', count=10000)\n",
    "df.tail()"
   ]
  },
  {
   "cell_type": "code",
   "execution_count": 3,
   "id": "37dbbd5b",
   "metadata": {},
   "outputs": [
    {
     "name": "stdout",
     "output_type": "stream",
     "text": [
      "<class 'pandas.core.frame.DataFrame'>\n",
      "DatetimeIndex: 10000 entries, 2022-07-04 17:17:00 to 2022-07-11 16:11:00\n",
      "Data columns (total 6 columns):\n",
      " #   Column  Non-Null Count  Dtype  \n",
      "---  ------  --------------  -----  \n",
      " 0   open    10000 non-null  float64\n",
      " 1   high    10000 non-null  float64\n",
      " 2   low     10000 non-null  float64\n",
      " 3   close   10000 non-null  float64\n",
      " 4   volume  10000 non-null  float64\n",
      " 5   value   10000 non-null  float64\n",
      "dtypes: float64(6)\n",
      "memory usage: 546.9 KB\n"
     ]
    }
   ],
   "source": [
    "df.info()"
   ]
  },
  {
   "cell_type": "markdown",
   "id": "569b3bc6",
   "metadata": {},
   "source": [
    "# UPBIT API\n",
    "- https://docs.upbit.com/reference/%EB%B6%84minute-%EC%BA%94%EB%93%A4-1\n",
    "\n",
    "\n",
    "\n",
    "- 주문 요청\n",
    "    - **초당 8회, 분당 200회**\n",
    "- 주문 요청 외 API\n",
    "    - **초당 30회, 분당 900회**"
   ]
  },
  {
   "cell_type": "code",
   "execution_count": 4,
   "id": "597cb483",
   "metadata": {},
   "outputs": [
    {
     "name": "stdout",
     "output_type": "stream",
     "text": [
      "[{\"market\":\"KRW-BTC\",\"candle_date_time_utc\":\"2022-07-11T07:11:00\",\"candle_date_time_kst\":\"2022-07-11T16:11:00\",\"opening_price\":26863000.00000000,\"high_price\":26891000.00000000,\"low_price\":26860000.00000000,\"trade_price\":26882000.00000000,\"timestamp\":1657523513309,\"candle_acc_trade_price\":72865241.28778000,\"candle_acc_trade_volume\":2.71100097,\"unit\":1}]\n"
     ]
    }
   ],
   "source": [
    "import requests\n",
    "\n",
    "url = \"https://api.upbit.com/v1/candles/minutes/1?market=KRW-BTC&count=1\"\n",
    "\n",
    "headers = {\"Accept\": \"application/json\"}\n",
    "\n",
    "response = requests.get(url, headers=headers)\n",
    "\n",
    "print(response.text)"
   ]
  },
  {
   "cell_type": "code",
   "execution_count": 5,
   "id": "0785b2e4",
   "metadata": {},
   "outputs": [
    {
     "name": "stdout",
     "output_type": "stream",
     "text": [
      "[]\n"
     ]
    }
   ],
   "source": [
    "import os\n",
    "from dotenv import load_dotenv\n",
    "import jwt\n",
    "import uuid\n",
    "import hashlib\n",
    "from urllib.parse import urlencode\n",
    "\n",
    "import requests\n",
    "\n",
    "load_dotenv()\n",
    "\n",
    "access_key = os.getenv(\"UPBIT_ACCESS\")\n",
    "secret_key = os.getenv(\"UPBIT_SEKRET\")\n",
    "server_url = 'https://api.upbit.com'\n",
    "\n",
    "payload = {\n",
    "    'access_key': access_key,\n",
    "    'nonce': str(uuid.uuid4()),\n",
    "}\n",
    "\n",
    "jwt_token = jwt.encode(payload, secret_key)\n",
    "authorize_token = 'Bearer {}'.format(jwt_token)\n",
    "headers = {\"Authorization\": authorize_token}\n",
    "\n",
    "res = requests.get(server_url + \"/v1/accounts\", headers=headers)\n",
    "\n",
    "print(res.json())\n",
    "\n"
   ]
  },
  {
   "cell_type": "code",
   "execution_count": 6,
   "id": "dfe87bbf",
   "metadata": {},
   "outputs": [
    {
     "name": "stdout",
     "output_type": "stream",
     "text": [
      "[{\"market\":\"KRW-BTC\",\"candle_date_time_utc\":\"2022-07-11T07:11:00\",\"candle_date_time_kst\":\"2022-07-11T16:11:00\",\"opening_price\":26863000.00000000,\"high_price\":26891000.00000000,\"low_price\":26860000.00000000,\"trade_price\":26882000.00000000,\"timestamp\":1657523513309,\"candle_acc_trade_price\":72865241.28778000,\"candle_acc_trade_volume\":2.71100097,\"unit\":1}]\n"
     ]
    }
   ],
   "source": [
    "\n",
    "url = \"https://api.upbit.com/v1/candles/minutes/1\"\n",
    "querystring = {\"market\":\"KRW-BTC\",\"count\":\"1\"}\n",
    "headers = {\"Accept\": \"application/json\"}\n",
    "response = requests.request(\"GET\", url, headers=headers, params=querystring)\n",
    "print(response.text)\n",
    "\n"
   ]
  },
  {
   "cell_type": "code",
   "execution_count": 7,
   "id": "24f8f8bc",
   "metadata": {},
   "outputs": [],
   "source": [
    "\n",
    "url = \"https://api.upbit.com/v1/candles/minutes/1\"\n",
    "querystring = {\"market\":\"KRW-BTC\",\"count\":\"50000\", \"unit\":\"3\"}\n",
    "headers = {\"Accept\": \"application/json\"}\n",
    "response = requests.request(\"GET\", url, headers=headers, params=querystring)\n",
    "data =  response.json()\n",
    "\n",
    "\n"
   ]
  },
  {
   "cell_type": "code",
   "execution_count": 11,
   "id": "9b006f8f",
   "metadata": {},
   "outputs": [
    {
     "data": {
      "text/plain": [
       "[{'market': 'KRW-BTC',\n",
       "  'candle_date_time_utc': '2022-07-11T06:59:00',\n",
       "  'candle_date_time_kst': '2022-07-11T15:59:00',\n",
       "  'opening_price': 26837000.0,\n",
       "  'high_price': 26837000.0,\n",
       "  'low_price': 26820000.0,\n",
       "  'trade_price': 26820000.0,\n",
       "  'timestamp': 1657522756108,\n",
       "  'candle_acc_trade_price': 6909637.78343,\n",
       "  'candle_acc_trade_volume': 0.25754751,\n",
       "  'unit': 1},\n",
       " {'market': 'KRW-BTC',\n",
       "  'candle_date_time_utc': '2022-07-11T06:58:00',\n",
       "  'candle_date_time_kst': '2022-07-11T15:58:00',\n",
       "  'opening_price': 26835000.0,\n",
       "  'high_price': 26838000.0,\n",
       "  'low_price': 26810000.0,\n",
       "  'trade_price': 26837000.0,\n",
       "  'timestamp': 1657522739702,\n",
       "  'candle_acc_trade_price': 52452341.28899,\n",
       "  'candle_acc_trade_volume': 1.95505982,\n",
       "  'unit': 1},\n",
       " {'market': 'KRW-BTC',\n",
       "  'candle_date_time_utc': '2022-07-11T06:57:00',\n",
       "  'candle_date_time_kst': '2022-07-11T15:57:00',\n",
       "  'opening_price': 26822000.0,\n",
       "  'high_price': 26838000.0,\n",
       "  'low_price': 26806000.0,\n",
       "  'trade_price': 26835000.0,\n",
       "  'timestamp': 1657522679716,\n",
       "  'candle_acc_trade_price': 118506558.37844,\n",
       "  'candle_acc_trade_volume': 4.41811154,\n",
       "  'unit': 1},\n",
       " {'market': 'KRW-BTC',\n",
       "  'candle_date_time_utc': '2022-07-11T06:56:00',\n",
       "  'candle_date_time_kst': '2022-07-11T15:56:00',\n",
       "  'opening_price': 26822000.0,\n",
       "  'high_price': 26828000.0,\n",
       "  'low_price': 26804000.0,\n",
       "  'trade_price': 26822000.0,\n",
       "  'timestamp': 1657522619317,\n",
       "  'candle_acc_trade_price': 118291898.9195,\n",
       "  'candle_acc_trade_volume': 4.41042552,\n",
       "  'unit': 1},\n",
       " {'market': 'KRW-BTC',\n",
       "  'candle_date_time_utc': '2022-07-11T06:55:00',\n",
       "  'candle_date_time_kst': '2022-07-11T15:55:00',\n",
       "  'opening_price': 26816000.0,\n",
       "  'high_price': 26840000.0,\n",
       "  'low_price': 26812000.0,\n",
       "  'trade_price': 26824000.0,\n",
       "  'timestamp': 1657522558566,\n",
       "  'candle_acc_trade_price': 101517137.65497,\n",
       "  'candle_acc_trade_volume': 3.7840161,\n",
       "  'unit': 1}]"
      ]
     },
     "execution_count": 11,
     "metadata": {},
     "output_type": "execute_result"
    }
   ],
   "source": [
    "data[:5]\n"
   ]
  }
 ],
 "metadata": {
  "kernelspec": {
   "display_name": "data_sources",
   "language": "python",
   "name": "data_sources"
  },
  "language_info": {
   "codemirror_mode": {
    "name": "ipython",
    "version": 3
   },
   "file_extension": ".py",
   "mimetype": "text/x-python",
   "name": "python",
   "nbconvert_exporter": "python",
   "pygments_lexer": "ipython3",
   "version": "3.8.13"
  }
 },
 "nbformat": 4,
 "nbformat_minor": 5
}
